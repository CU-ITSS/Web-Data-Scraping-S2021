{
 "cells": [
  {
   "cell_type": "markdown",
   "metadata": {},
   "source": [
    "# Web Data Scraping\n",
    "\n",
    "[Spring 2019 ITSS Mini-Course](https://www.colorado.edu/cartss/programs/interdisciplinary-training-social-sciences-itss/mini-course-web-data-scraping) — ARSC 5040  \n",
    "[Brian C. Keegan, Ph.D.](http://brianckeegan.com/)  \n",
    "[Assistant Professor, Department of Information Science](https://www.colorado.edu/cmci/people/information-science/brian-c-keegan)  \n",
    "University of Colorado Boulder  \n",
    "\n",
    "Copyright and distributed under an [MIT License](https://opensource.org/licenses/MIT)\n",
    "\n",
    "## Class outline\n",
    "\n",
    "I've flipped weeks 3 and 4!\n",
    "\n",
    "* **Week 1**: Introduction to Jupyter, browser console, structured data, ethical considerations\n",
    "* **Week 2**: Scraping HTML with `requests` and `BeautifulSoup`\n",
    "* **Week 4**: Scraping web data with Selenium, other tools for automated scraping\n",
    "* **Week 3**: Scraping an API with `requests` and `json`, Wikipedia\n",
    "* **Week 5**: Authenticating through an API, Twitter & Reddit\n",
    "\n",
    "## Acknowledgements\n",
    "\n",
    "This course will draw on resources built by myself and [Allison Morgan](https://allisonmorgan.github.io/) for the [2018 Summer Institute for Computational Social Science](https://github.com/allisonmorgan/sicss_boulder), which were in turn derived from [other resources](https://github.com/simonmunzert/web-scraping-with-r-extended-edition) developed by [Simon Munzert](http://simonmunzert.github.io/) and [Chris Bail](http://www.chrisbail.net/). \n",
    "\n",
    "Thank you also to Professors [Bhuvana Narasimhan](https://www.colorado.edu/linguistics/bhuvana-narasimhan) and [Stefanie Mollborn](https://behavioralscience.colorado.edu/person/stefanie-mollborn) for coordinating the ITSS seminars.\n",
    "\n",
    "This notebook is adapted from excellent notebooks in Dr. [Cody Buntain](http://cody.bunta.in/)'s seminar on [Social Media and Crisis Informatics](http://cody.bunta.in/teaching/2018_winter_umd_inst728e/) as well as the [PRAW documentation](https://praw.readthedocs.io/en/latest/).\n",
    "\n",
    "## Class 3 goals\n",
    "\n",
    "* Sharing accomplishments and challenges with last week's material\n",
    "* Why you don't want to write a parser for Wikipedia's data\n",
    "* Accessing an API with `requests`\n",
    "* Fundamentals of retrieving information from Wikipedia's API\n",
    "* EDA with data from Wikipedia's API\n",
    "* Reddit's API, time permitting"
   ]
  },
  {
   "cell_type": "markdown",
   "metadata": {},
   "source": [
    "We'll need a few common libraries for all these examples."
   ]
  },
  {
   "cell_type": "code",
   "execution_count": 251,
   "metadata": {},
   "outputs": [],
   "source": [
    "# Lets us talk to other servers on the web\n",
    "import requests\n",
    "\n",
    "# APIs spit out data in JSON\n",
    "import json\n",
    "\n",
    "# Use BeautifulSoup to parse some HTML\n",
    "from bs4 import BeautifulSoup\n",
    "\n",
    "# Handling dates and times\n",
    "from datetime import datetime\n",
    "\n",
    "# DataFrames!\n",
    "import pandas as pd\n",
    "\n",
    "# Data visualization\n",
    "%matplotlib inline\n",
    "import matplotlib.pyplot as plt\n",
    "import seaborn as sb"
   ]
  },
  {
   "cell_type": "markdown",
   "metadata": {},
   "source": [
    "## Scraping Wikipedia\n",
    "\n",
    "Consider the Wikipedia page for [George H.W. Bush](https://en.wikipedia.org/wiki/George_H._W._Bush). This seems like a relatively straightforward webpage to scrape out the hyperlinks to other articles or to compare the content to other presidential biographies. However, Wikipedia also preserves the [history of every revision made to this article](https://en.wikipedia.org/w/index.php?title=George_H._W._Bush&action=history) going back to the first (available) revisions in 2001, like [this](https://en.wikipedia.org/w/index.php?title=George_H._W._Bush&oldid=345784898). Thinking back to the Oscars example, it seems promising to find the \"oldid\" values and visit each revision's webpage to parse the content out. However, Wikipedia will give you much of this revision history data for free through its [application programming interface](http://en.wikipedia.org/w/api.php) (API).\n",
    "\n",
    "### Current content\n",
    "We can use `requests` to get the current HTML markup of an article from the API, for example."
   ]
  },
  {
   "cell_type": "code",
   "execution_count": 245,
   "metadata": {},
   "outputs": [],
   "source": [
    "# Where the API server lives\n",
    "query_url = \"https://en.wikipedia.org/w/api.php\"\n",
    "\n",
    "# An empty dictionary to store our query parameters\n",
    "query_params = {}\n",
    "\n",
    "# We want to parse the content of a page\n",
    "query_params['action'] = 'parse'\n",
    "\n",
    "# Which page?\n",
    "query_params['page'] = 'George H. W. Bush'\n",
    "\n",
    "# We want the text\n",
    "query_params['prop'] = 'text'\n",
    "\n",
    "# Ignore the edit buttons and table of contents\n",
    "query_params['disableeditsection'] = 1\n",
    "query_params['disabletoc'] = 1\n",
    "\n",
    "# Get the results back as JSON\n",
    "query_params['format'] = 'json'\n",
    "\n",
    "# Format the data in an easier-to-parse option\n",
    "query_params['formatversion'] = 2"
   ]
  },
  {
   "cell_type": "markdown",
   "metadata": {},
   "source": [
    "We have only set up our request to the API, but not sent it or received the data back."
   ]
  },
  {
   "cell_type": "code",
   "execution_count": 246,
   "metadata": {},
   "outputs": [],
   "source": [
    "json_response = requests.get(url = query_url, params = query_params).json()"
   ]
  },
  {
   "cell_type": "markdown",
   "metadata": {},
   "source": [
    "What's waiting inside? A dictionary of dictionaries. The inner dictionary has keys for the title of the page we requested (\"George H. W. Bush\"), the pageid (a numeric identifier), and the text of the article."
   ]
  },
  {
   "cell_type": "code",
   "execution_count": 250,
   "metadata": {},
   "outputs": [
    {
     "data": {
      "text/plain": [
       "dict_keys(['title', 'pageid', 'text'])"
      ]
     },
     "execution_count": 250,
     "metadata": {},
     "output_type": "execute_result"
    }
   ],
   "source": [
    "json_response['parse'].keys()"
   ]
  },
  {
   "cell_type": "markdown",
   "metadata": {},
   "source": [
    "We could count the number of links in the article."
   ]
  },
  {
   "cell_type": "code",
   "execution_count": 256,
   "metadata": {},
   "outputs": [
    {
     "data": {
      "text/plain": [
       "[<a href=\"/wiki/George_W._Bush\" title=\"George W. Bush\">George W. Bush</a>,\n",
       " <a class=\"mw-redirect mw-disambig\" href=\"/wiki/George_Bush_(disambiguation)\" title=\"George Bush (disambiguation)\">George Bush (disambiguation)</a>,\n",
       " <a class=\"image\" href=\"/wiki/File:George_H._W._Bush_crop.jpg\"><img alt=\"George H. W. Bush crop.jpg\" data-file-height=\"1850\" data-file-width=\"1471\" decoding=\"async\" height=\"277\" src=\"//upload.wikimedia.org/wikipedia/commons/thumb/e/ee/George_H._W._Bush_crop.jpg/220px-George_H._W._Bush_crop.jpg\" srcset=\"//upload.wikimedia.org/wikipedia/commons/thumb/e/ee/George_H._W._Bush_crop.jpg/330px-George_H._W._Bush_crop.jpg 1.5x, //upload.wikimedia.org/wikipedia/commons/thumb/e/ee/George_H._W._Bush_crop.jpg/440px-George_H._W._Bush_crop.jpg 2x\" width=\"220\"/></a>,\n",
       " <a href=\"/wiki/President_of_the_United_States\" title=\"President of the United States\">President of the United States</a>,\n",
       " <a href=\"/wiki/Vice_President_of_the_United_States\" title=\"Vice President of the United States\">Vice President</a>]"
      ]
     },
     "execution_count": 256,
     "metadata": {},
     "output_type": "execute_result"
    }
   ],
   "source": [
    "ghwb_soup = BeautifulSoup(json_response['parse']['text'])\n",
    "\n",
    "ghwb_soup.find_all('a')[:5]"
   ]
  },
  {
   "cell_type": "markdown",
   "metadata": {},
   "source": [
    "Or the content of the article."
   ]
  },
  {
   "cell_type": "code",
   "execution_count": 255,
   "metadata": {},
   "outputs": [
    {
     "data": {
      "text/plain": [
       "[<p class=\"mw-empty-elt\">\n",
       " </p>,\n",
       " <p><b>George Herbert Walker Bush</b> (June 12, 1924 – November 30, 2018) was an American politician who served as the 41st <a href=\"/wiki/President_of_the_United_States\" title=\"President of the United States\">president of the United States</a> from 1989 to 1993. Prior to assuming the presidency, Bush served as the 43rd <a class=\"mw-redirect\" href=\"/wiki/Vice_president_of_the_United_States\" title=\"Vice president of the United States\">vice president of the United States</a> from 1981 to 1989. A member of the <a href=\"/wiki/Republican_Party_(United_States)\" title=\"Republican Party (United States)\">Republican Party</a>, his earlier posts included those of congressman, ambassador, and <a href=\"/wiki/Director_of_Central_Intelligence\" title=\"Director of Central Intelligence\">CIA director</a>. During his career in public service, he was known simply as <b>George Bush</b>, but after his son <a href=\"/wiki/George_W._Bush\" title=\"George W. Bush\">George W. Bush</a> became the 43rd president in 2001, he was referred to as \"George H. W. Bush\", \"Bush 41\", or \"George Bush Sr.\"\n",
       " </p>,\n",
       " <p>Bush postponed his university studies after the <a href=\"/wiki/Attack_on_Pearl_Harbor\" title=\"Attack on Pearl Harbor\">attack on Pearl Harbor</a> on December 7, 1941, enlisted in the Navy on his 18th birthday, and became one of its youngest aviators. He served until September 1945, and then attended <a href=\"/wiki/Yale_University\" title=\"Yale University\">Yale University</a>, graduating in 1948. He moved his family to <a href=\"/wiki/West_Texas\" title=\"West Texas\">West Texas</a> where he entered the oil business and became a millionaire by the age of 40 in 1964. After founding his own oil company, Bush was defeated in his first run for the United States Senate in 1964, but won election to the House of Representatives from <span data-sort-value=\"Texas07 !\"><a href=\"/wiki/Texas%27s_7th_congressional_district\" title=\"Texas's 7th congressional district\">Texas's 7th congressional district</a></span> in 1966. He was reelected in 1968 but was defeated for election to the Senate in 1970. In 1971, President <a href=\"/wiki/Richard_Nixon\" title=\"Richard Nixon\">Richard Nixon</a> appointed Bush as <a href=\"/wiki/United_States_Ambassador_to_the_United_Nations\" title=\"United States Ambassador to the United Nations\">Ambassador to the United Nations</a>, and he became Chairman of the <a href=\"/wiki/Republican_National_Committee\" title=\"Republican National Committee\">Republican National Committee</a> in 1973. The following year, President <a href=\"/wiki/Gerald_Ford\" title=\"Gerald Ford\">Gerald Ford</a> appointed him <a href=\"/wiki/List_of_ambassadors_of_the_United_States_to_China#List_of_Chiefs_of_the_U.S._Liaison_Office_in_Beijing\" title=\"List of ambassadors of the United States to China\">Chief of the Liaison Office in China</a> and later made him the director of Central Intelligence. Bush ran for president in 1980, was defeated in the Republican primary by <a href=\"/wiki/Ronald_Reagan\" title=\"Ronald Reagan\">Ronald Reagan</a>, then as his running mate became vice-president after the ticket's election. During his eight-year tenure as vice president, Bush headed task forces on deregulation and the <a href=\"/wiki/War_on_drugs\" title=\"War on drugs\">war on drugs</a>.\n",
       " </p>,\n",
       " <p>Bush in 1988 defeated Democratic opponent <a href=\"/wiki/Michael_Dukakis\" title=\"Michael Dukakis\">Michael Dukakis</a>, becoming the first incumbent vice president to be elected president in 152 years. Foreign policy drove the Bush presidency; military operations were conducted in <a href=\"/wiki/United_States_invasion_of_Panama\" title=\"United States invasion of Panama\">Panama</a> and the <a href=\"/wiki/Gulf_War\" title=\"Gulf War\">Persian Gulf</a>, the <a href=\"/wiki/Berlin_Wall\" title=\"Berlin Wall\">Berlin Wall</a> fell in 1989, and the Soviet Union dissolved two years later. Bush also signed the <a href=\"/wiki/North_American_Free_Trade_Agreement\" title=\"North American Free Trade Agreement\">North American Free Trade Agreement</a> (NAFTA), which created a trade bloc consisting of the United States, Canada, and Mexico. Domestically, Bush reneged on <a href=\"/wiki/Read_my_lips:_no_new_taxes\" title=\"Read my lips: no new taxes\">a 1988 campaign promise</a> and signed a bill to increase taxes. He lost the <a href=\"/wiki/1992_United_States_presidential_election\" title=\"1992 United States presidential election\">1992 presidential election</a> to Democrat <a href=\"/wiki/Bill_Clinton\" title=\"Bill Clinton\">Bill Clinton</a> following an <a href=\"/wiki/Early_1990s_recession\" title=\"Early 1990s recession\">economic recession</a> and the decreased importance of foreign policy in a post–Cold War political climate.\n",
       " </p>,\n",
       " <p>After leaving office in 1993, Bush was active in humanitarian activities, often alongside Clinton, his former opponent. With George W. Bush's victory in the <a href=\"/wiki/2000_United_States_presidential_election\" title=\"2000 United States presidential election\">2000 presidential election</a>, Bush and his son became the second father–son pair to serve as President, following <a href=\"/wiki/John_Adams\" title=\"John Adams\">John Adams</a> and <a href=\"/wiki/John_Quincy_Adams\" title=\"John Quincy Adams\">John Quincy Adams</a>. Bush died on November 30, 2018, aged 94 years, 171 days, making him the longest-lived president in U.S. history.\n",
       " </p>]"
      ]
     },
     "execution_count": 255,
     "metadata": {},
     "output_type": "execute_result"
    }
   ],
   "source": [
    "ghwb_soup.find_all('p')[:5]"
   ]
  },
  {
   "cell_type": "markdown",
   "metadata": {},
   "source": [
    "### Revision history\n",
    "\n",
    "There is also an API endpoint for the revision history of this article that contains metadata about the who and when of previous changes."
   ]
  },
  {
   "cell_type": "code",
   "execution_count": 260,
   "metadata": {},
   "outputs": [],
   "source": [
    "# Where the API server lives\n",
    "query_url = \"https://en.wikipedia.org/w/api.php\"\n",
    "\n",
    "# An empty dictionary to store our query parameters\n",
    "query_params = {}\n",
    "\n",
    "# We want to query properties of a page\n",
    "query_params['action'] = 'query'\n",
    "\n",
    "# Which page?\n",
    "query_params['titles'] = 'George H. W. Bush'\n",
    "\n",
    "# We want the revisions\n",
    "query_params['prop'] = 'revisions'\n",
    "\n",
    "# In particular, we want the revision ids, users, comments, timestamps\n",
    "query_params['rvprop'] = 'ids|userid|comment|timestamp|user|size|sha1'\n",
    "\n",
    "# Get 500 revisions\n",
    "query_params['rvlimit'] = 500\n",
    "\n",
    "# Start old and go newer\n",
    "query_params['rvdir'] = 'newer'\n",
    "    \n",
    "# Get the results back as JSON\n",
    "query_params['format'] = 'json'\n",
    "\n",
    "# Format the data in an easier-to-parse option\n",
    "query_params['formatversion'] = 2"
   ]
  },
  {
   "cell_type": "markdown",
   "metadata": {},
   "source": [
    "Make the request."
   ]
  },
  {
   "cell_type": "code",
   "execution_count": 261,
   "metadata": {},
   "outputs": [],
   "source": [
    "json_response = requests.get(url = query_url, params = query_params).json()"
   ]
  },
  {
   "cell_type": "markdown",
   "metadata": {},
   "source": [
    "Inspect this `json_response`. This returns a dictionary with both \"continue\" and \"query\" keys. The continue indicates there are more than 500 revisions present in the article's history and provides an index for the next query to pick up from. The query contains the revision history we care about—buried a bit in a nested data structure of lists and dictionaries, but we eventually get to the \"revisions\" list of dictionaries with the revision histories."
   ]
  },
  {
   "cell_type": "code",
   "execution_count": 269,
   "metadata": {},
   "outputs": [
    {
     "data": {
      "text/plain": [
       "[{'revid': 345784898,\n",
       "  'parentid': 345784804,\n",
       "  'user': 'The Cunctator',\n",
       "  'userid': 31,\n",
       "  'timestamp': '2001-09-21T03:12:13Z',\n",
       "  'size': 1178,\n",
       "  'sha1': '90f6ea9b117d52570564135c6bfb187f6b9e1674',\n",
       "  'comment': '*'},\n",
       " {'revid': 253862,\n",
       "  'parentid': 345784898,\n",
       "  'user': '193.133.134.xxx',\n",
       "  'anon': True,\n",
       "  'userid': 0,\n",
       "  'timestamp': '2001-12-04T16:39:07Z',\n",
       "  'size': 1249,\n",
       "  'sha1': '9d3c5c452f5d2039f64627aff0f8fdb60be57845',\n",
       "  'comment': '*'},\n",
       " {'revid': 253863,\n",
       "  'parentid': 253862,\n",
       "  'user': '208.144.114.xxx',\n",
       "  'anon': True,\n",
       "  'userid': 0,\n",
       "  'timestamp': '2001-12-08T23:00:26Z',\n",
       "  'size': 1847,\n",
       "  'sha1': '1e364b9a487ff421a4a11c19689868e1d71c642e',\n",
       "  'comment': '*'}]"
      ]
     },
     "execution_count": 269,
     "metadata": {},
     "output_type": "execute_result"
    }
   ],
   "source": [
    "revisions = json_response['query']['pages'][0]['revisions']\n",
    "revisions[:3]"
   ]
  },
  {
   "cell_type": "markdown",
   "metadata": {},
   "source": [
    "Convert to a DataFrame."
   ]
  },
  {
   "cell_type": "code",
   "execution_count": 271,
   "metadata": {},
   "outputs": [
    {
     "data": {
      "text/html": [
       "<div>\n",
       "<style scoped>\n",
       "    .dataframe tbody tr th:only-of-type {\n",
       "        vertical-align: middle;\n",
       "    }\n",
       "\n",
       "    .dataframe tbody tr th {\n",
       "        vertical-align: top;\n",
       "    }\n",
       "\n",
       "    .dataframe thead th {\n",
       "        text-align: right;\n",
       "    }\n",
       "</style>\n",
       "<table border=\"1\" class=\"dataframe\">\n",
       "  <thead>\n",
       "    <tr style=\"text-align: right;\">\n",
       "      <th></th>\n",
       "      <th>anon</th>\n",
       "      <th>comment</th>\n",
       "      <th>parentid</th>\n",
       "      <th>revid</th>\n",
       "      <th>sha1</th>\n",
       "      <th>size</th>\n",
       "      <th>timestamp</th>\n",
       "      <th>user</th>\n",
       "      <th>userid</th>\n",
       "    </tr>\n",
       "  </thead>\n",
       "  <tbody>\n",
       "    <tr>\n",
       "      <th>0</th>\n",
       "      <td>NaN</td>\n",
       "      <td>*</td>\n",
       "      <td>345784804</td>\n",
       "      <td>345784898</td>\n",
       "      <td>90f6ea9b117d52570564135c6bfb187f6b9e1674</td>\n",
       "      <td>1178</td>\n",
       "      <td>2001-09-21T03:12:13Z</td>\n",
       "      <td>The Cunctator</td>\n",
       "      <td>31</td>\n",
       "    </tr>\n",
       "    <tr>\n",
       "      <th>1</th>\n",
       "      <td>True</td>\n",
       "      <td>*</td>\n",
       "      <td>345784898</td>\n",
       "      <td>253862</td>\n",
       "      <td>9d3c5c452f5d2039f64627aff0f8fdb60be57845</td>\n",
       "      <td>1249</td>\n",
       "      <td>2001-12-04T16:39:07Z</td>\n",
       "      <td>193.133.134.xxx</td>\n",
       "      <td>0</td>\n",
       "    </tr>\n",
       "    <tr>\n",
       "      <th>2</th>\n",
       "      <td>True</td>\n",
       "      <td>*</td>\n",
       "      <td>253862</td>\n",
       "      <td>253863</td>\n",
       "      <td>1e364b9a487ff421a4a11c19689868e1d71c642e</td>\n",
       "      <td>1847</td>\n",
       "      <td>2001-12-08T23:00:26Z</td>\n",
       "      <td>208.144.114.xxx</td>\n",
       "      <td>0</td>\n",
       "    </tr>\n",
       "    <tr>\n",
       "      <th>3</th>\n",
       "      <td>True</td>\n",
       "      <td>Automated conversion</td>\n",
       "      <td>253863</td>\n",
       "      <td>17459</td>\n",
       "      <td>76d6afd1a80a1b122ffa8fa23f96f883cb230099</td>\n",
       "      <td>1823</td>\n",
       "      <td>2002-02-24T15:43:20Z</td>\n",
       "      <td>Conversion script</td>\n",
       "      <td>0</td>\n",
       "    </tr>\n",
       "    <tr>\n",
       "      <th>4</th>\n",
       "      <td>NaN</td>\n",
       "      <td>Links to elections</td>\n",
       "      <td>17459</td>\n",
       "      <td>42995</td>\n",
       "      <td>dcbb5c79c99b2690d292693dbb53dd1751a21565</td>\n",
       "      <td>1987</td>\n",
       "      <td>2002-02-25T15:51:15Z</td>\n",
       "      <td>RobLa</td>\n",
       "      <td>96</td>\n",
       "    </tr>\n",
       "  </tbody>\n",
       "</table>\n",
       "</div>"
      ],
      "text/plain": [
       "   anon               comment   parentid      revid  \\\n",
       "0   NaN                     *  345784804  345784898   \n",
       "1  True                     *  345784898     253862   \n",
       "2  True                     *     253862     253863   \n",
       "3  True  Automated conversion     253863      17459   \n",
       "4   NaN    Links to elections      17459      42995   \n",
       "\n",
       "                                       sha1  size             timestamp  \\\n",
       "0  90f6ea9b117d52570564135c6bfb187f6b9e1674  1178  2001-09-21T03:12:13Z   \n",
       "1  9d3c5c452f5d2039f64627aff0f8fdb60be57845  1249  2001-12-04T16:39:07Z   \n",
       "2  1e364b9a487ff421a4a11c19689868e1d71c642e  1847  2001-12-08T23:00:26Z   \n",
       "3  76d6afd1a80a1b122ffa8fa23f96f883cb230099  1823  2002-02-24T15:43:20Z   \n",
       "4  dcbb5c79c99b2690d292693dbb53dd1751a21565  1987  2002-02-25T15:51:15Z   \n",
       "\n",
       "                user  userid  \n",
       "0      The Cunctator      31  \n",
       "1    193.133.134.xxx       0  \n",
       "2    208.144.114.xxx       0  \n",
       "3  Conversion script       0  \n",
       "4              RobLa      96  "
      ]
     },
     "execution_count": 271,
     "metadata": {},
     "output_type": "execute_result"
    }
   ],
   "source": [
    "rev_df = pd.DataFrame(revisions)\n",
    "rev_df.head()"
   ]
  },
  {
   "cell_type": "markdown",
   "metadata": {},
   "source": [
    "Plot out how the size of the article changed over the first 500 revisions."
   ]
  },
  {
   "cell_type": "code",
   "execution_count": 276,
   "metadata": {},
   "outputs": [
    {
     "data": {
      "text/plain": [
       "(0, 500)"
      ]
     },
     "execution_count": 276,
     "metadata": {},
     "output_type": "execute_result"
    },
    {
     "data": {
      "image/png": "[encoded data removed]",
      "text/plain": [
       "<Figure size 432x288 with 1 Axes>"
      ]
     },
     "metadata": {
      "needs_background": "light"
     },
     "output_type": "display_data"
    }
   ],
   "source": [
    "ax = rev_df.plot(y='size',legend=False)\n",
    "ax.set_ylabel('Size (bytes)')\n",
    "ax.set_xlabel('Revision')\n",
    "ax.set_xlim((0,500))"
   ]
  },
  {
   "cell_type": "markdown",
   "metadata": {},
   "source": [
    "Or count how many times an editor made a contribution."
   ]
  },
  {
   "cell_type": "code",
   "execution_count": 274,
   "metadata": {},
   "outputs": [
    {
     "data": {
      "text/plain": [
       "Jiang             22\n",
       "Vzbs34            15\n",
       "Daniel Quinlan    14\n",
       "Minesweeper       10\n",
       "Lst27              8\n",
       "Name: user, dtype: int64"
      ]
     },
     "execution_count": 274,
     "metadata": {},
     "output_type": "execute_result"
    }
   ],
   "source": [
    "rev_df['user'].value_counts().head()"
   ]
  },
  {
   "cell_type": "markdown",
   "metadata": {},
   "source": [
    "There are many other parts of the very powerful Wikipedia API and scraping these APIs exposes much more metadata than parsing the HTML of these webpages, while also being easier on the servers hosting it. I will share a notebook that has functions for retrieving and parsing content, revisions, pageviews, and other information."
   ]
  },
  {
   "cell_type": "markdown",
   "metadata": {},
   "source": [
    "## Scraping Reddit\n",
    "\n",
    "Reddit also hosts a lot of detailed behavioral data that could be of interest to social scientists. As was the case with Wikipedia, our naïve inclination may be to develop scrapers and parsers to extract this information, but Reddit will give much of it to you for free through their API!\n",
    "\n",
    "You can retrieve a few different types of entities from Reddit's API: sub-reddits, submissions, comments, and redditors. Many of these are interoperable: a sub-reddit contains submissions contributed by redditors with comments from other redditors.\n",
    "\n",
    "We will use a wrapper library to communicate with the Reddit API called [Python Reddit API Wrapper](https://praw.readthedocs.io/en/latest/) or `praw`. \n",
    "\n",
    "Copy the code below to your terminal to install `praw`."
   ]
  },
  {
   "cell_type": "markdown",
   "metadata": {},
   "source": [
    "conda install -c conda-forge praw "
   ]
  },
  {
   "cell_type": "markdown",
   "metadata": {},
   "source": [
    "Afterwards, we can import `praw`."
   ]
  },
  {
   "cell_type": "code",
   "execution_count": 1,
   "metadata": {},
   "outputs": [],
   "source": [
    "import praw"
   ]
  },
  {
   "cell_type": "markdown",
   "metadata": {},
   "source": [
    "We then need to authenticate with Reddit to get access to the API. Typically you can just enter the client ID, client secret, password, username, *etc*. as strings. \n",
    "\n",
    "1. You will need to create an account on Reddit. After you have created an account and logged in, go to https://www.reddit.com/prefs/apps/. \n",
    "2. Scroll down and click the \"create app\" button at the bottom. Provide a basic name, description, and enter a URL for your homepage (or just use http://www.colorado.edu).\n",
    "3. You will need the client ID (the string of characters beneath the name of your app) as well as the secret (the other string of characters) as well as your username and password.\n",
    "4. You can make up a user-agent string, but include your username as good practice for the sysadmins to track you down if you break things.\n",
    "\n",
    "![Image from Cody Buntain](http://www.cs.umd.edu/~cbuntain/inst728e/reddit_screens/1-003a.png)\n",
    "\n",
    "You'll create an API connector object (`r`) below that will authenticate with the API and handle making the requests."
   ]
  },
  {
   "cell_type": "code",
   "execution_count": null,
   "metadata": {},
   "outputs": [],
   "source": [
    "r = praw.Reddit(client_id='your application id',\n",
    "                client_secret='your application secret',\n",
    "                password='your account password',\n",
    "                user_agent='scraping script by /u/youraccountname',\n",
    "                username='your account name')"
   ]
  },
  {
   "cell_type": "markdown",
   "metadata": {},
   "source": [
    "You can confirm that this authentication process worked by making a simple request like printing your username."
   ]
  },
  {
   "cell_type": "code",
   "execution_count": null,
   "metadata": {},
   "outputs": [],
   "source": [
    "print(r.user.me())"
   ]
  },
  {
   "cell_type": "markdown",
   "metadata": {},
   "source": [
    "I'm going to read them in from a local file (\"login.json\") so that I post this notebook on the internet in the future without compromising my account security. This won't work for you, so just skip this step."
   ]
  },
  {
   "cell_type": "code",
   "execution_count": 277,
   "metadata": {},
   "outputs": [
    {
     "name": "stdout",
     "output_type": "stream",
     "text": [
      "cuinfoscience\n"
     ]
    }
   ],
   "source": [
    "# Load my credentials from a local disk so I don't show the world\n",
    "with open('reddit_login.json','r') as f:\n",
    "    r_creds = json.load(f)\n",
    "\n",
    "# Create an authenticated reddit instance using the creds\n",
    "r = praw.Reddit(client_id = r_creds['client_id'],\n",
    "                client_secret = r_creds['client_secret'],\n",
    "                password = r_creds['password'],\n",
    "                user_agent = r_creds['user_agent'],\n",
    "                username = r_creds['username'])\n",
    "\n",
    "# Make sure your reddit instance works\n",
    "print(r.user.me())"
   ]
  },
  {
   "cell_type": "markdown",
   "metadata": {},
   "source": [
    "### Sub-reddits\n",
    "Now print the top 25 stories in /r/news.\n",
    "\n",
    "[Documentation for the Subreddit model in PRAW](https://praw.readthedocs.io/en/latest/code_overview/models/subreddit.html)."
   ]
  },
  {
   "cell_type": "markdown",
   "metadata": {},
   "source": [
    "Create a `news_subreddit` object to store the various attributes about this sub-reddit."
   ]
  },
  {
   "cell_type": "code",
   "execution_count": 228,
   "metadata": {},
   "outputs": [],
   "source": [
    "news_subreddit = r.subreddit('news')"
   ]
  },
  {
   "cell_type": "markdown",
   "metadata": {},
   "source": [
    "The `news_subreddit` has a number of attributes and methods you can call on it. The time the sub-reddit was founded."
   ]
  },
  {
   "cell_type": "code",
   "execution_count": 70,
   "metadata": {},
   "outputs": [
    {
     "data": {
      "text/plain": [
       "1201243765.0"
      ]
     },
     "execution_count": 70,
     "metadata": {},
     "output_type": "execute_result"
    }
   ],
   "source": [
    "news_subreddit.created_utc"
   ]
  },
  {
   "cell_type": "markdown",
   "metadata": {},
   "source": [
    "That's formatted in a UNIX timecode (seconds since 1 January 1970), but we can convert it into a more readable timestamp with `datetime`'s `utcfromtimestamp`."
   ]
  },
  {
   "cell_type": "code",
   "execution_count": 71,
   "metadata": {},
   "outputs": [
    {
     "name": "stdout",
     "output_type": "stream",
     "text": [
      "2008-01-25 06:49:25\n"
     ]
    }
   ],
   "source": [
    "print(datetime.utcfromtimestamp(news_subreddit.created_utc))"
   ]
  },
  {
   "cell_type": "markdown",
   "metadata": {},
   "source": [
    "There are other attributes such as the number of subscribers, current active users, as well as the description of the sub-reddit."
   ]
  },
  {
   "cell_type": "code",
   "execution_count": 223,
   "metadata": {},
   "outputs": [
    {
     "data": {
      "text/plain": [
       "'17,532,514'"
      ]
     },
     "execution_count": 223,
     "metadata": {},
     "output_type": "execute_result"
    }
   ],
   "source": [
    "'{0:,}'.format(news_subreddit.subscribers)"
   ]
  },
  {
   "cell_type": "code",
   "execution_count": 224,
   "metadata": {},
   "outputs": [
    {
     "data": {
      "text/plain": [
       "False"
      ]
     },
     "execution_count": 224,
     "metadata": {},
     "output_type": "execute_result"
    }
   ],
   "source": [
    "news_subreddit.over18"
   ]
  },
  {
   "cell_type": "code",
   "execution_count": 73,
   "metadata": {},
   "outputs": [
    {
     "data": {
      "text/plain": [
       "22903"
      ]
     },
     "execution_count": 73,
     "metadata": {},
     "output_type": "execute_result"
    }
   ],
   "source": [
    "news_subreddit.active_user_count"
   ]
  },
  {
   "cell_type": "code",
   "execution_count": 74,
   "metadata": {},
   "outputs": [
    {
     "name": "stdout",
     "output_type": "stream",
     "text": [
      ">* **[/r/inthenews](/r/inthenews?hl)**\n",
      "\n",
      ">#\n",
      "\n",
      ">* **[/r/worldnews](/r/worldnews?hl)**\n",
      "\n",
      ">#\n",
      "\n",
      ">* **[/r/politics](/r/politics?hl)**\n",
      "\n",
      ">#\n",
      "\n",
      ">* **[new comments](/r/news/comments?hl)**\n",
      "\n",
      "1. **[Post all analysis/opinion/politics articles to /r/InTheNews](/r/InTheNews)**\n",
      "\n",
      "> [](http://goo.gl/R6as4?ri)\n",
      "\n",
      "> [](http://goo.gl/gBldE?ri)\n",
      "\n",
      "> [](http://goo.gl/u5EZN?ri)\n",
      "\n",
      "> [](http://goo.gl/exK8j?ri)\n",
      "\n",
      "> [](http://www.reddit.com/r/news?ri)\n",
      "\n",
      "> [](http://www.reddit.com/r/restorethefourth?ri)\n",
      "\n",
      "Want to talk?\n",
      "                \n",
      "Follow [@rslashnews on Twitter](https://twitter.com/rslashnews)                    \n",
      "\n",
      "See a post that violates the rules below? Had your post stuck in the spam filter? Have a question about policy? Just want to give feedback? [Send the mod team a message](http://www.reddit.com/message/compose?to=%2Fr%2Fnews).\n",
      "\n",
      "---\n",
      "\n",
      "Submit all self- & meta-posts to /r/inthenews\n",
      "\n",
      "Your post will likely be removed if it: \n",
      "\n",
      "- is not news\n",
      "- is an opinion/analysis or advocacy piece.\n",
      "- primarily concerns politics.\n",
      "- has a title not taken from the article.\n",
      "- has a pay wall or steals content.\n",
      "- covers an already-submitted story.\n",
      "- violates [reddit's site-wide rules](http://www.reddit.com/rules/), especially regarding personal info.\n",
      "\n",
      "Your comment will likely be removed if it:\n",
      "\n",
      "- advocates or celebrates the death of another person\n",
      "- is racist, sexist, vitriolic, or overly crude.\n",
      "- is unnecessarily rude or provocative.\n",
      "- is a cheap and distracting joke or meme.\n",
      "- is responding to spam.\n",
      "- violates [reddit's site-wide rules](http://www.reddit.com/rules/).\n",
      "\n",
      "Extreme or repeat offenders will be banned.\n",
      "\n",
      "**\\>\\>\\>[Expanded Rules](https://www.reddit.com/r/news/about/rules/)<<<**\n",
      "\n",
      "---\n",
      "\n",
      "If your post doesn't fit, consider [finding an appropriate news article on that story](http://www.reddit.com/r/news/wiki/recommendedsources) to submit instead, or submitting yours to lower moderation subreddits:\n",
      "\n",
      "[/r/inthenews](/r/inthenews) - all news-related content  \n",
      "[/r/AnythingGoesNews](/r/AnythingGoesNews) - unrestricted news   \n",
      "[/r/truereddit](/r/truereddit) - insightful articles   \n",
      "/r/self - any self-post   \n",
      "/r/misc, /r/redditdotcom - anything\n",
      "\n",
      "or other news subreddits:\n",
      "\n",
      "[/r/worldnews](/r/worldnews)  - from outside the USA only   \n",
      "[/r/SyrianCivilWar](/r/syriancivilwar) - about the conflict in Syria      \n",
      "[/r/MidEastRegionalWar](/r/mideastregionalwar) - on MidEast conflict\n",
      "[/r/UpliftingNews](/r/upliftingnews) - uplifting     \n",
      "[/r/SavedYouAClick](/r/savedyouaclick) - making media more straightforward\n",
      "\n",
      "or subreddits for other topics:\n",
      "\n",
      "[/r/FoodForThought](/r/FoodForThought) - discussion-worthy long form articles about interesting subjects                               \n",
      "[/r/politics](/r/politics) - for shouting about politics  \n",
      "[/r/moderatepolitics](/r/ModeratePolitics) - less shouting                 \n",
      "[/r/politicaldiscussion](/r/PoliticalDiscussion) - even less shouting        \n",
      "[/r/geopolitics](/r/geopolitics) - intl. politics and geography  \n",
      "[/r/entertainment](/r/entertainment) - Justin Bieber updates, etc.   \n",
      "\n",
      "or check out the [200 most active subreddits, categorized by content](http://redd.it/1f7hqc) and the [full list of subreddits by subscribers](http://redditmetrics.com/top).\n",
      "\n",
      "---\n",
      "\n",
      "Recommendations:\n",
      "                                                                  \n",
      "/r/full_news\n",
      "\n",
      "/r/qualitynews\n",
      "\n",
      "/r/neutralnews\n",
      "\n",
      "/r/worldevents\n",
      "\n",
      "---\n",
      "\n",
      "[submit analysis/opinion article](http://www.reddit.com/r/inthenews/submit)\n",
      "\n",
      "[submit news article](http://www.reddit.com/r/news/submit)\n",
      "\n",
      "[submit something else](http://www.reddit.com/r/misc/submit)\n",
      "\n",
      "[submit analysis/opinion article](http://www.reddit.com/r/inthenews/submit)\n"
     ]
    }
   ],
   "source": [
    "print(news_subreddit.description)"
   ]
  },
  {
   "cell_type": "markdown",
   "metadata": {},
   "source": [
    "The rules of the sub-reddit are available as a method `.rules()` which returns a list of dictionaries of rule objects."
   ]
  },
  {
   "cell_type": "code",
   "execution_count": 75,
   "metadata": {},
   "outputs": [
    {
     "data": {
      "text/plain": [
       "[{'kind': 'link',\n",
       "  'description': 'A story that is over a week old, does not properly report a story, or is not noteworthy. Self posts and meta posts without moderator approval (live update threads, major breaking news, and megathreads are usually exempt) should go to /r/InTheNews.',\n",
       "  'short_name': 'Not news',\n",
       "  'violation_reason': 'Not news',\n",
       "  'created_utc': 1453789451.0,\n",
       "  'priority': 0,\n",
       "  'description_html': '<!-- SC_OFF --><div class=\"md\"><p>A story that is over a week old, does not properly report a story, or is not noteworthy. Self posts and meta posts without moderator approval (live update threads, major breaking news, and megathreads are usually exempt) should go to <a href=\"/r/InTheNews\">/r/InTheNews</a>.</p>\\n</div><!-- SC_ON -->'},\n",
       " {'kind': 'link',\n",
       "  'description': 'Opinion and analysis should go in /r/InTheNews or another relevant subreddit. This includes articles with editorial opinion, personal conjecture, or otherwise. Press releases with an editorial slant, and analysis of news events (rather than reporting on the event itself) are not allowed. Both articles and domains regarding advocacy for a certain point of view or ideology rather than objective reporting should be reviewed under this rule.',\n",
       "  'short_name': 'Opinion/analysis or advocacy piece',\n",
       "  'violation_reason': 'Opinion/analysis or advocacy piece',\n",
       "  'created_utc': 1453789679.0,\n",
       "  'priority': 1,\n",
       "  'description_html': '<!-- SC_OFF --><div class=\"md\"><p>Opinion and analysis should go in <a href=\"/r/InTheNews\">/r/InTheNews</a> or another relevant subreddit. This includes articles with editorial opinion, personal conjecture, or otherwise. Press releases with an editorial slant, and analysis of news events (rather than reporting on the event itself) are not allowed. Both articles and domains regarding advocacy for a certain point of view or ideology rather than objective reporting should be reviewed under this rule.</p>\\n</div><!-- SC_ON -->'},\n",
       " {'kind': 'link',\n",
       "  'description': 'News concerning politics should be posted in /r/Politics or another appropriate subreddit. Politics in this case primarily means rhetoric pieces, so notable substantial events within political institutions (eg. supreme court decisions in the US, denouncement of actions by a government body, etc.) are reviewed on a case-by-case basis.',\n",
       "  'short_name': 'Politics',\n",
       "  'violation_reason': 'Politics',\n",
       "  'created_utc': 1453789893.0,\n",
       "  'priority': 2,\n",
       "  'description_html': '<!-- SC_OFF --><div class=\"md\"><p>News concerning politics should be posted in <a href=\"/r/Politics\">/r/Politics</a> or another appropriate subreddit. Politics in this case primarily means rhetoric pieces, so notable substantial events within political institutions (eg. supreme court decisions in the US, denouncement of actions by a government body, etc.) are reviewed on a case-by-case basis.</p>\\n</div><!-- SC_ON -->'},\n",
       " {'kind': 'link',\n",
       "  'description': \"Editorialized titles, written by the posting user or the domain, are not allowed. Titles should be unbiased and strictly factual. When the article itself is titled appropriately, the submission title should be directly sourced from the title or lead paragraph of the linked article.\\n\\nDon't plug other subreddits in the title; adding cross-post references is not suitable for /r/news.\",\n",
       "  'short_name': 'Title not from article/editorialized title',\n",
       "  'violation_reason': 'Title not from article/editorialized title',\n",
       "  'created_utc': 1453790151.0,\n",
       "  'priority': 3,\n",
       "  'description_html': '<!-- SC_OFF --><div class=\"md\"><p>Editorialized titles, written by the posting user or the domain, are not allowed. Titles should be unbiased and strictly factual. When the article itself is titled appropriately, the submission title should be directly sourced from the title or lead paragraph of the linked article.</p>\\n\\n<p>Don&#39;t plug other subreddits in the title; adding cross-post references is not suitable for <a href=\"/r/news\">/r/news</a>.</p>\\n</div><!-- SC_ON -->'},\n",
       " {'kind': 'link',\n",
       "  'description': 'Domains which require the user to purchase a subscription or register an account in order to read the full article are not allowed in /r/news. All users should be able to access the article. Domains which are stealing or reposting content from other news sites, or simply rehash another article without adding substance, are not allowed, and users are encouraged to post the original source instead.',\n",
       "  'short_name': 'Paywall or is blogspam/steals content',\n",
       "  'violation_reason': 'Paywall or is blogspam/steals content',\n",
       "  'created_utc': 1453790433.0,\n",
       "  'priority': 4,\n",
       "  'description_html': '<!-- SC_OFF --><div class=\"md\"><p>Domains which require the user to purchase a subscription or register an account in order to read the full article are not allowed in <a href=\"/r/news\">/r/news</a>. All users should be able to access the article. Domains which are stealing or reposting content from other news sites, or simply rehash another article without adding substance, are not allowed, and users are encouraged to post the original source instead.</p>\\n</div><!-- SC_ON -->'},\n",
       " {'kind': 'link',\n",
       "  'description': \"This rule is in relation to already submitted stories which are being rehashed on multiple domains. If a popular story is being submitted while the same event is covered in another post on the front page, or one with sufficient upvotes at an earlier date, it may be subject to removal. If a story was already submitted but did not become popular, then the rule is not applicable. Spamming a story until it reaches the front page is in violation of reddit's sitewide rules and is not allowed.\",\n",
       "  'short_name': 'Covers an already-submitted story',\n",
       "  'violation_reason': 'Covers an already-submitted story',\n",
       "  'created_utc': 1453790680.0,\n",
       "  'priority': 5,\n",
       "  'description_html': '<!-- SC_OFF --><div class=\"md\"><p>This rule is in relation to already submitted stories which are being rehashed on multiple domains. If a popular story is being submitted while the same event is covered in another post on the front page, or one with sufficient upvotes at an earlier date, it may be subject to removal. If a story was already submitted but did not become popular, then the rule is not applicable. Spamming a story until it reaches the front page is in violation of reddit&#39;s sitewide rules and is not allowed.</p>\\n</div><!-- SC_ON -->'},\n",
       " {'kind': 'comment',\n",
       "  'description': \"Comments containing racist, sexist or bigoted slurs are subject to removal. Comments which promote racism, sexism or bigotry (including a viewpoint in relation to those) are subject to removal, and users whom engage in posting such comments may be banned at the mods' discretion. Overly crude comments which add nothing to discussion are also subject to removal. These include inappropriate or inflammatory comments, personal attacks, etc.\",\n",
       "  'short_name': 'Racist, sexist, vitriolic, or overly crude',\n",
       "  'violation_reason': 'Racist, sexist, vitriolic, or overly crude',\n",
       "  'created_utc': 1453790829.0,\n",
       "  'priority': 6,\n",
       "  'description_html': '<!-- SC_OFF --><div class=\"md\"><p>Comments containing racist, sexist or bigoted slurs are subject to removal. Comments which promote racism, sexism or bigotry (including a viewpoint in relation to those) are subject to removal, and users whom engage in posting such comments may be banned at the mods&#39; discretion. Overly crude comments which add nothing to discussion are also subject to removal. These include inappropriate or inflammatory comments, personal attacks, etc.</p>\\n</div><!-- SC_ON -->'},\n",
       " {'kind': 'comment',\n",
       "  'description': 'In conjunction with vitriolic and crude comments, a comment that is unnecessarily rude (inflammatory comments, personal attacks) or purposefully provocative (baiting) are subject to removal.\\n\\nAdvocating for or celebrating the death of another human being is grounds for a permanent ban from r/news. Regardless of what you think about a person, this type of discourse is unwelcome on r/news and we will not hesitate to remove you for it.\\n\\n',\n",
       "  'short_name': 'Unnecessarily rude or provocative',\n",
       "  'violation_reason': 'Unnecessarily rude or provocative',\n",
       "  'created_utc': 1453790975.0,\n",
       "  'priority': 7,\n",
       "  'description_html': '<!-- SC_OFF --><div class=\"md\"><p>In conjunction with vitriolic and crude comments, a comment that is unnecessarily rude (inflammatory comments, personal attacks) or purposefully provocative (baiting) are subject to removal.</p>\\n\\n<p>Advocating for or celebrating the death of another human being is grounds for a permanent ban from <a href=\"/r/news\">r/news</a>. Regardless of what you think about a person, this type of discourse is unwelcome on <a href=\"/r/news\">r/news</a> and we will not hesitate to remove you for it.</p>\\n</div><!-- SC_ON -->'},\n",
       " {'kind': 'comment',\n",
       "  'description': 'Jokes, memes, puns, and overall low quality comments are subject to removal, especially in the top-level comments.',\n",
       "  'short_name': 'Cheap or distracting joke or meme',\n",
       "  'violation_reason': 'Cheap or distracting joke or meme',\n",
       "  'created_utc': 1453791072.0,\n",
       "  'priority': 8,\n",
       "  'description_html': '<!-- SC_OFF --><div class=\"md\"><p>Jokes, memes, puns, and overall low quality comments are subject to removal, especially in the top-level comments.</p>\\n</div><!-- SC_ON -->'},\n",
       " {'kind': 'all',\n",
       "  'description': \"Any thread which violates reddit's site-wide rules or invokes a witch-hunt is not allowed in /r/news.\\n\\nContact information publicly advertised by the person or organization in question is allowed so long as it is not being used to incite personal harassment, and doesn't contain personal contact information (home phone number, information of non-public family members, etc.) **To ensure that such comments aren't removed, provide a link to the official page where this information is contained.**\",\n",
       "  'short_name': 'Breaks sitewide rules, witchhunting',\n",
       "  'violation_reason': 'Breaks sitewide rules, witchhunting',\n",
       "  'created_utc': 1453791407.0,\n",
       "  'priority': 9,\n",
       "  'description_html': '<!-- SC_OFF --><div class=\"md\"><p>Any thread which violates reddit&#39;s site-wide rules or invokes a witch-hunt is not allowed in <a href=\"/r/news\">/r/news</a>.</p>\\n\\n<p>Contact information publicly advertised by the person or organization in question is allowed so long as it is not being used to incite personal harassment, and doesn&#39;t contain personal contact information (home phone number, information of non-public family members, etc.) <strong>To ensure that such comments aren&#39;t removed, provide a link to the official page where this information is contained.</strong></p>\\n</div><!-- SC_ON -->'}]"
      ]
     },
     "execution_count": 75,
     "metadata": {},
     "output_type": "execute_result"
    }
   ],
   "source": [
    "news_subreddit.rules()['rules']"
   ]
  },
  {
   "cell_type": "markdown",
   "metadata": {},
   "source": [
    "When were each of these rules created? Loop through each of the rules and print the \"short_name\" of the rule and the rule timestamp."
   ]
  },
  {
   "cell_type": "code",
   "execution_count": 76,
   "metadata": {},
   "outputs": [
    {
     "name": "stdout",
     "output_type": "stream",
     "text": [
      "Not news 2016-01-26 06:24:11\n",
      "Opinion/analysis or advocacy piece 2016-01-26 06:27:59\n",
      "Politics 2016-01-26 06:31:33\n",
      "Title not from article/editorialized title 2016-01-26 06:35:51\n",
      "Paywall or is blogspam/steals content 2016-01-26 06:40:33\n",
      "Covers an already-submitted story 2016-01-26 06:44:40\n",
      "Racist, sexist, vitriolic, or overly crude 2016-01-26 06:47:09\n",
      "Unnecessarily rude or provocative 2016-01-26 06:49:35\n",
      "Cheap or distracting joke or meme 2016-01-26 06:51:12\n",
      "Breaks sitewide rules, witchhunting 2016-01-26 06:56:47\n"
     ]
    }
   ],
   "source": [
    "for rule in news_subreddit.rules()['rules']:\n",
    "    created = rule['created_utc']\n",
    "    print(rule['short_name'], datetime.utcfromtimestamp(created))"
   ]
  },
  {
   "cell_type": "markdown",
   "metadata": {},
   "source": [
    "We can also get a list of the moderators for this subreddit."
   ]
  },
  {
   "cell_type": "code",
   "execution_count": 233,
   "metadata": {},
   "outputs": [
    {
     "data": {
      "text/plain": [
       "['douglasmacarthur',\n",
       " 'Kylde',\n",
       " 'CandyManCan',\n",
       " 'Elderthedog',\n",
       " 'LuckyBdx4',\n",
       " 'ani625',\n",
       " 'pomosexuality',\n",
       " 'luster',\n",
       " 'RNews_Mod',\n",
       " 'hoosakiwi',\n",
       " 'DiggDejected',\n",
       " 'todayilearned83',\n",
       " 'gutpocketsucks',\n",
       " 'ReganDryke',\n",
       " 'pussgurka',\n",
       " 'lanismycousin',\n",
       " 'AudibleNod',\n",
       " 'adagiosummoner',\n",
       " 'Bestialman',\n",
       " 'Kishara',\n",
       " 'Plainchant',\n",
       " 'PotRoastPotato',\n",
       " 'lolihull',\n",
       " 'topCyder']"
      ]
     },
     "execution_count": 233,
     "metadata": {},
     "output_type": "execute_result"
    }
   ],
   "source": [
    "mod_list = []\n",
    "\n",
    "for mod in news_subreddit.moderator():\n",
    "    mod_list.append(mod.name)\n",
    "    \n",
    "mod_list"
   ]
  },
  {
   "cell_type": "markdown",
   "metadata": {},
   "source": [
    "### Submissions\n",
    "\n",
    "We can get a list of submissions to a sub-reddit using [a few different methods](https://praw.readthedocs.io/en/latest/code_overview/models/subreddit.html).\n",
    "\n",
    "* `.controversial()`\n",
    "* `.hot()`\n",
    "* `.new()`\n",
    "* `.rising()`\n",
    "* `.search()`\n",
    "* `.top()`\n",
    "\n",
    "Here we will use the `.top()` method to get the top 25 submissions on the /r/news subreddit from the past 12 months.\n",
    "\n",
    "[Documentation for the Submission model in PRAW](https://praw.readthedocs.io/en/latest/code_overview/models/submission.html)."
   ]
  },
  {
   "cell_type": "code",
   "execution_count": null,
   "metadata": {},
   "outputs": [],
   "source": [
    "top25_news = r.subreddit('news').top('year',limit=25)"
   ]
  },
  {
   "cell_type": "markdown",
   "metadata": {},
   "source": [
    "`top25_news` is a `ListingGenerator` object, which is a special [generator](https://www.dataquest.io/blog/python-generators-tutorial/) class defined by PRAW. It does not actually go out and get the data at this stage. There's not much you can do to look inside this `ListingGenerator` other than loop through and perform operations. In this case, lets add each submission to a list of `top25_submissions`."
   ]
  },
  {
   "cell_type": "code",
   "execution_count": 88,
   "metadata": {},
   "outputs": [],
   "source": [
    "top25_submissions = []\n",
    "\n",
    "for submission in r.subreddit('news').top('year',limit=25):\n",
    "    top25_submissions.append(submission)"
   ]
  },
  {
   "cell_type": "markdown",
   "metadata": {},
   "source": [
    "We can inspect the first (top) `Submission` object."
   ]
  },
  {
   "cell_type": "code",
   "execution_count": 225,
   "metadata": {},
   "outputs": [
    {
     "data": {
      "text/plain": [
       "Submission(id='84aebi')"
      ]
     },
     "execution_count": 225,
     "metadata": {},
     "output_type": "execute_result"
    }
   ],
   "source": [
    "first_submission = top25_submissions[0]\n",
    "first_submission"
   ]
  },
  {
   "cell_type": "markdown",
   "metadata": {},
   "source": [
    "Use the `dir` function to see the other methods and attributes inside this first top `Submission` object. (There are a lot of other \"hidden\" attributes and methods that use the \"\\_\" which we can ignore with this list comprehension.)"
   ]
  },
  {
   "cell_type": "code",
   "execution_count": 226,
   "metadata": {},
   "outputs": [
    {
     "data": {
      "text/plain": [
       "['archived',\n",
       " 'author',\n",
       " 'category',\n",
       " 'clicked',\n",
       " 'comments',\n",
       " 'created',\n",
       " 'crosspost',\n",
       " 'delete',\n",
       " 'distinguished',\n",
       " 'domain',\n",
       " 'downs',\n",
       " 'downvote',\n",
       " 'duplicates',\n",
       " 'edit',\n",
       " 'edited',\n",
       " 'flair',\n",
       " 'fullname',\n",
       " 'gild',\n",
       " 'gilded',\n",
       " 'gildings',\n",
       " 'hidden',\n",
       " 'hide',\n",
       " 'id',\n",
       " 'likes',\n",
       " 'locked',\n",
       " 'media',\n",
       " 'mod',\n",
       " 'name',\n",
       " 'parse',\n",
       " 'permalink',\n",
       " 'pinned',\n",
       " 'pwls',\n",
       " 'quarantine',\n",
       " 'reply',\n",
       " 'report',\n",
       " 'save',\n",
       " 'saved',\n",
       " 'score',\n",
       " 'selftext',\n",
       " 'shortlink',\n",
       " 'spoiler',\n",
       " 'stickied',\n",
       " 'subreddit',\n",
       " 'thumbnail',\n",
       " 'title',\n",
       " 'unhide',\n",
       " 'unsave',\n",
       " 'ups',\n",
       " 'upvote',\n",
       " 'url',\n",
       " 'visited',\n",
       " 'wls']"
      ]
     },
     "execution_count": 226,
     "metadata": {},
     "output_type": "execute_result"
    }
   ],
   "source": [
    "[i for i in dir(first_submission) if '_' not in i]"
   ]
  },
  {
   "cell_type": "markdown",
   "metadata": {},
   "source": [
    "`vars` may be even more helpful."
   ]
  },
  {
   "cell_type": "code",
   "execution_count": 241,
   "metadata": {},
   "outputs": [
    {
     "data": {
      "text/plain": [
       "{'_reddit': <praw.reddit.Reddit at 0x1124bdf60>,\n",
       " 'approved_at_utc': None,\n",
       " 'subreddit': Subreddit(display_name='news'),\n",
       " 'selftext': '',\n",
       " 'author_fullname': 't2_10knci',\n",
       " 'saved': False,\n",
       " 'mod_reason_title': None,\n",
       " 'gilded': 2,\n",
       " 'clicked': False,\n",
       " 'title': 'Scientist Stephen Hawking has died aged 76',\n",
       " 'link_flair_richtext': [],\n",
       " 'subreddit_name_prefixed': 'r/news',\n",
       " 'hidden': False,\n",
       " 'pwls': 6,\n",
       " 'link_flair_css_class': None,\n",
       " 'downs': 0,\n",
       " 'parent_whitelist_status': 'all_ads',\n",
       " 'hide_score': False,\n",
       " 'name': 't3_84aebi',\n",
       " 'quarantine': False,\n",
       " 'link_flair_text_color': 'dark',\n",
       " 'author_flair_background_color': None,\n",
       " 'subreddit_type': 'public',\n",
       " 'ups': 188179,\n",
       " 'domain': 'news.sky.com',\n",
       " 'media_embed': {},\n",
       " 'author_flair_template_id': None,\n",
       " 'is_original_content': False,\n",
       " 'user_reports': [],\n",
       " 'secure_media': None,\n",
       " 'is_reddit_media_domain': False,\n",
       " 'is_meta': False,\n",
       " 'category': None,\n",
       " 'secure_media_embed': {},\n",
       " 'link_flair_text': None,\n",
       " 'can_mod_post': False,\n",
       " 'score': 188179,\n",
       " 'approved_by': None,\n",
       " 'thumbnail': '',\n",
       " 'edited': False,\n",
       " 'author_flair_css_class': None,\n",
       " 'author_flair_richtext': [],\n",
       " 'gildings': {'gid_1': 0, 'gid_2': 2, 'gid_3': 0},\n",
       " 'content_categories': None,\n",
       " 'is_self': False,\n",
       " 'mod_note': None,\n",
       " 'created': 1521027928.0,\n",
       " 'link_flair_type': 'text',\n",
       " 'wls': 6,\n",
       " 'banned_by': None,\n",
       " 'author_flair_type': 'text',\n",
       " 'contest_mode': False,\n",
       " 'selftext_html': None,\n",
       " 'likes': None,\n",
       " 'suggested_sort': None,\n",
       " 'banned_at_utc': None,\n",
       " 'view_count': None,\n",
       " 'archived': True,\n",
       " 'no_follow': False,\n",
       " 'is_crosspostable': True,\n",
       " 'pinned': False,\n",
       " 'over_18': False,\n",
       " 'media_only': False,\n",
       " 'link_flair_template_id': None,\n",
       " 'can_gild': True,\n",
       " 'spoiler': False,\n",
       " 'locked': False,\n",
       " 'author_flair_text': None,\n",
       " 'visited': False,\n",
       " 'num_reports': None,\n",
       " 'distinguished': None,\n",
       " 'subreddit_id': 't5_2qh3l',\n",
       " 'mod_reason_by': None,\n",
       " 'removal_reason': None,\n",
       " 'link_flair_background_color': '',\n",
       " 'id': '84aebi',\n",
       " 'is_robot_indexable': True,\n",
       " 'report_reasons': None,\n",
       " 'author': Redditor(name='areallyshitusername'),\n",
       " 'num_crossposts': 11,\n",
       " 'num_comments': 6998,\n",
       " 'send_replies': True,\n",
       " 'mod_reports': [],\n",
       " 'author_patreon_flair': False,\n",
       " 'author_flair_text_color': None,\n",
       " 'permalink': '/r/news/comments/84aebi/scientist_stephen_hawking_has_died_aged_76/',\n",
       " 'whitelist_status': 'all_ads',\n",
       " 'stickied': False,\n",
       " 'url': 'http://news.sky.com/story/scientist-stephen-hawking-has-died-aged-76-11289119',\n",
       " 'subreddit_subscribers': 17533149,\n",
       " 'created_utc': 1520999128.0,\n",
       " 'media': None,\n",
       " 'is_video': False,\n",
       " '_fetched': False,\n",
       " '_info_params': {},\n",
       " 'comment_limit': 2048,\n",
       " 'comment_sort': 'best',\n",
       " '_flair': None,\n",
       " '_mod': None,\n",
       " '_comments_by_id': {}}"
      ]
     },
     "execution_count": 241,
     "metadata": {},
     "output_type": "execute_result"
    }
   ],
   "source": [
    "vars(first_submission)"
   ]
  },
  {
   "cell_type": "markdown",
   "metadata": {},
   "source": [
    "We can extract the features of each submission, store them in a dictionary, and save to an external list. This step will take a while (approximately one second per submission) because we make an API call for each submission in the `ListingGenerator` returned by the `r.subreddit('news').top('year',limit=25)` we're looping through."
   ]
  },
  {
   "cell_type": "code",
   "execution_count": 127,
   "metadata": {},
   "outputs": [],
   "source": [
    "submission_stats = []\n",
    "\n",
    "for submission in r.subreddit('news').top('year',limit=25):\n",
    "    d = {}\n",
    "    d['id'] = submission.id\n",
    "    d['title'] = submission.title\n",
    "    d['num_comments'] = submission.num_comments\n",
    "    d['score'] = submission.score\n",
    "    d['upvote_ratio'] = submission.upvote_ratio\n",
    "    d['date'] = datetime.utcfromtimestamp(submission.created_utc)\n",
    "    d['domain'] = submission.domain\n",
    "    d['gilded'] = submission.gilded\n",
    "    d['num_crossposts'] = submission.num_crossposts\n",
    "    d['nsfw'] = submission.over_18\n",
    "    d['author'] = submission.author.name\n",
    "    submission_stats.append(d)"
   ]
  },
  {
   "cell_type": "markdown",
   "metadata": {},
   "source": [
    "We can turn `submission_stats` into a pandas DataFrame."
   ]
  },
  {
   "cell_type": "code",
   "execution_count": 128,
   "metadata": {},
   "outputs": [
    {
     "data": {
      "text/html": [
       "<div>\n",
       "<style scoped>\n",
       "    .dataframe tbody tr th:only-of-type {\n",
       "        vertical-align: middle;\n",
       "    }\n",
       "\n",
       "    .dataframe tbody tr th {\n",
       "        vertical-align: top;\n",
       "    }\n",
       "\n",
       "    .dataframe thead th {\n",
       "        text-align: right;\n",
       "    }\n",
       "</style>\n",
       "<table border=\"1\" class=\"dataframe\">\n",
       "  <thead>\n",
       "    <tr style=\"text-align: right;\">\n",
       "      <th></th>\n",
       "      <th>author</th>\n",
       "      <th>date</th>\n",
       "      <th>domain</th>\n",
       "      <th>gilded</th>\n",
       "      <th>id</th>\n",
       "      <th>nsfw</th>\n",
       "      <th>num_comments</th>\n",
       "      <th>num_crossposts</th>\n",
       "      <th>score</th>\n",
       "      <th>title</th>\n",
       "      <th>upvote_ratio</th>\n",
       "    </tr>\n",
       "  </thead>\n",
       "  <tbody>\n",
       "    <tr>\n",
       "      <th>0</th>\n",
       "      <td>areallyshitusername</td>\n",
       "      <td>2018-03-14 03:45:28</td>\n",
       "      <td>news.sky.com</td>\n",
       "      <td>2</td>\n",
       "      <td>84aebi</td>\n",
       "      <td>False</td>\n",
       "      <td>6998</td>\n",
       "      <td>11</td>\n",
       "      <td>188172</td>\n",
       "      <td>Scientist Stephen Hawking has died aged 76</td>\n",
       "      <td>0.92</td>\n",
       "    </tr>\n",
       "    <tr>\n",
       "      <th>1</th>\n",
       "      <td>cameraman502</td>\n",
       "      <td>2018-11-12 18:48:04</td>\n",
       "      <td>fox46charlotte.com</td>\n",
       "      <td>9</td>\n",
       "      <td>9wgrdf</td>\n",
       "      <td>False</td>\n",
       "      <td>6495</td>\n",
       "      <td>33</td>\n",
       "      <td>155129</td>\n",
       "      <td>Report: Stan Lee dead at 95 - Story</td>\n",
       "      <td>0.89</td>\n",
       "    </tr>\n",
       "    <tr>\n",
       "      <th>2</th>\n",
       "      <td>nmork</td>\n",
       "      <td>2018-08-26 00:21:18</td>\n",
       "      <td>abc15.com</td>\n",
       "      <td>0</td>\n",
       "      <td>9abi3e</td>\n",
       "      <td>False</td>\n",
       "      <td>11790</td>\n",
       "      <td>13</td>\n",
       "      <td>154683</td>\n",
       "      <td>Arizona Senator John McCain has passed away at...</td>\n",
       "      <td>0.89</td>\n",
       "    </tr>\n",
       "    <tr>\n",
       "      <th>3</th>\n",
       "      <td>quinninin</td>\n",
       "      <td>2018-12-01 04:54:43</td>\n",
       "      <td>nbcdfw.com</td>\n",
       "      <td>3</td>\n",
       "      <td>a203bi</td>\n",
       "      <td>False</td>\n",
       "      <td>9903</td>\n",
       "      <td>17</td>\n",
       "      <td>128848</td>\n",
       "      <td>Former President George H.W. Bush Dies at 94</td>\n",
       "      <td>0.86</td>\n",
       "    </tr>\n",
       "    <tr>\n",
       "      <th>4</th>\n",
       "      <td>JoseTwitterFan</td>\n",
       "      <td>2018-03-20 01:02:05</td>\n",
       "      <td>thewrap.com</td>\n",
       "      <td>1</td>\n",
       "      <td>85osel</td>\n",
       "      <td>False</td>\n",
       "      <td>6923</td>\n",
       "      <td>11</td>\n",
       "      <td>124452</td>\n",
       "      <td>#DeleteFacebook Movement Gains Steam After 50 ...</td>\n",
       "      <td>0.90</td>\n",
       "    </tr>\n",
       "  </tbody>\n",
       "</table>\n",
       "</div>"
      ],
      "text/plain": [
       "                author                date              domain  gilded  \\\n",
       "0  areallyshitusername 2018-03-14 03:45:28        news.sky.com       2   \n",
       "1         cameraman502 2018-11-12 18:48:04  fox46charlotte.com       9   \n",
       "2                nmork 2018-08-26 00:21:18           abc15.com       0   \n",
       "3            quinninin 2018-12-01 04:54:43          nbcdfw.com       3   \n",
       "4       JoseTwitterFan 2018-03-20 01:02:05         thewrap.com       1   \n",
       "\n",
       "       id   nsfw  num_comments  num_crossposts   score  \\\n",
       "0  84aebi  False          6998              11  188172   \n",
       "1  9wgrdf  False          6495              33  155129   \n",
       "2  9abi3e  False         11790              13  154683   \n",
       "3  a203bi  False          9903              17  128848   \n",
       "4  85osel  False          6923              11  124452   \n",
       "\n",
       "                                               title  upvote_ratio  \n",
       "0         Scientist Stephen Hawking has died aged 76          0.92  \n",
       "1                Report: Stan Lee dead at 95 - Story          0.89  \n",
       "2  Arizona Senator John McCain has passed away at...          0.89  \n",
       "3       Former President George H.W. Bush Dies at 94          0.86  \n",
       "4  #DeleteFacebook Movement Gains Steam After 50 ...          0.90  "
      ]
     },
     "execution_count": 128,
     "metadata": {},
     "output_type": "execute_result"
    }
   ],
   "source": [
    "top25_df = pd.DataFrame(submission_stats)\n",
    "top25_df.head()"
   ]
  },
  {
   "cell_type": "markdown",
   "metadata": {},
   "source": [
    "Plot out the relationship between score and number of comments."
   ]
  },
  {
   "cell_type": "code",
   "execution_count": 134,
   "metadata": {},
   "outputs": [
    {
     "data": {
      "text/plain": [
       "(0, 16000)"
      ]
     },
     "execution_count": 134,
     "metadata": {},
     "output_type": "execute_result"
    },
    {
     "data": {
      "image/png": "[encoded data removed]",
      "text/plain": [
       "<Figure size 432x288 with 1 Axes>"
      ]
     },
     "metadata": {
      "needs_background": "light"
     },
     "output_type": "display_data"
    }
   ],
   "source": [
    "ax = top25_df.plot.scatter(x='score',y='num_comments',s=50,c='k',alpha=.5)\n",
    "ax.set_xlim((0,200000))\n",
    "ax.set_ylim((0,16000))"
   ]
  },
  {
   "cell_type": "markdown",
   "metadata": {},
   "source": [
    "### Comments\n",
    "\n",
    "This is a simple Reddit submission: [What is a dataset that you can't believe is available to the public?](https://www.reddit.com/r/datasets/comments/akb4mr/what_is_a_dataset_that_you_cant_believe_is/). We can inspect the comments in this simple submission.\n",
    "\n",
    "[Documentation for Comment model in PRAW](https://praw.readthedocs.io/en/latest/code_overview/models/comment.html)."
   ]
  },
  {
   "cell_type": "code",
   "execution_count": 176,
   "metadata": {},
   "outputs": [
    {
     "name": "stdout",
     "output_type": "stream",
     "text": [
      "This submission was made on 2019-01-27 10:59:04.\n",
      "There are 33 comments.\n"
     ]
    }
   ],
   "source": [
    "cant_believe = r.submission(id='akb4mr')\n",
    "\n",
    "print(\"This submission was made on {0}.\".format(datetime.utcfromtimestamp(cant_believe.created_utc)))\n",
    "print(\"There are {0:,} comments.\".format(cant_believe.num_comments))"
   ]
  },
  {
   "cell_type": "markdown",
   "metadata": {},
   "source": [
    "We can inspect these comments, working from the [Comment Extraction and Parsing](https://praw.readthedocs.io/en/latest/tutorials/comments.html) tutorial in PRAW."
   ]
  },
  {
   "cell_type": "code",
   "execution_count": 177,
   "metadata": {},
   "outputs": [
    {
     "name": "stdout",
     "output_type": "stream",
     "text": [
      "State voter files. You can see whether every single registered voter voted in a given election. There’s actually a political science  [paper](https://scholar.google.com/scholar?hl=en&as_sdt=0%2C43&q=gerber+turnout+pressure&btnG=#d=gs_qabs&u=%23p%3D0F49X22wGIcJ) where the researchers threatened to send letters to all your neighbors with information about which people in the neighborhood had voted to see if it would increase turnout. It did. \n",
      "First and last name of every US person who has renounced their citizenship each quarter: [https://www.federalregister.gov/quarterly-publication-of-individuals-who-have-chosen-to-expatriate](https://www.federalregister.gov/quarterly-publication-of-individuals-who-have-chosen-to-expatriate)\n",
      "The SEC published \"Apache log files that record and store user access statistics for the SEC.gov website\" for 2003 through 2017: https://www.sec.gov/dera/data/edgar-log-file-data-set.html\n",
      "[Enron email dataset](https://www.cs.cmu.edu/~./enron/) \n",
      "ICIJ Offshore Leaks Database\n",
      "\n",
      "[https://offshoreleaks.icij.org/pages/database](https://offshoreleaks.icij.org/pages/database)\n",
      "\n",
      "If open directories count, 'Pemiblanc' seems pretty alarming.    \n",
      "\n",
      "[https://www.troyhunt.com/the-111-million-pemiblanc-credential-stuffing-list/](https://www.troyhunt.com/the-111-million-pemiblanc-credential-stuffing-list/)\n",
      "You can scrape searches from the Baidu chinese search engine. You can forexample count the number of times trade war was searched.\n",
      "The NPI database lists personal information about every single physician in the United States. Not only is it public, doctors are required to keep their information updated in the database. \n",
      "Although not a true dataset, the Department of Energy has pretty detailed data (mostly in PDFs) showing exactly where and how uranium moves from mine sites, to processing facilities, to reactors. Down to the ships and trucks used, the routes taken, etc. it’s really cool info. You can get a detailed image of how the global nuclear industry operates.\n",
      " Social Security Death Master File \n",
      "There is a website that pretty much lists everyone's former addresses, phone numbers, and even leaves vague trashy (libel) warnings like 'criminal record, sex offender registered or past debts on record, pay 30 dollars to see it'. So if you were late on a single payment, like pretty much anyone, you're a pedo, and here are your addresses and phone numbers, and every one of your family members as well. \n",
      "Vaccine Adverse Event Reporting data - unverified, self-reported data available to the public from the CDC. What could go wrong? \n",
      "\n",
      "[https://wonder.cdc.gov/VAERS.html](https://wonder.cdc.gov/VAERS.html)\n",
      "[removed]\n",
      "States that have government transparency websites. You can literally find out the salaries of K-12 teachers, high school teachers, government workers, and even professors.\n",
      "that is an excellent response i'm surprised that's legal. I guess the purpose is so that people can check that their vote was counted and/or see if someone used their name to vote for them if they didn't vote?\n",
      "Do you have an example of such dataset?\n",
      "How data is being applied in politics on an international basis today.\n",
      "\n",
      "[The Rise of the Weaponized AI Propaganda Machine](https://medium.com/join-scout/the-rise-of-the-weaponized-ai-propaganda-machine-86dac61668b)\n",
      "\n",
      "According to Zurich’s Das Magazine, which profiled Kosinski in late 2016, “with a mere ten ‘likes’ as input his model could appraise a person’s character better than an average coworker. With seventy, it could ‘know’ a subject better than a friend; with 150 likes, better than their parents. With 300 likes, Kosinski’s machine could predict a subject’s behavior better than their partner. With even more likes it could exceed what a person thinks they know about themselves.”\n",
      "\n",
      "But researchers across the technology and media ecosystem who have been following Cambridge Analytica’s political messaging activities have unearthed an expansive, adaptive online network that automates the manipulation of voters at a scale never before seen in political messaging.\n",
      "Are there docs on how to do this?\n",
      "Sounds like google trends right?\n",
      "Like someone else pointed out, this is like Google trends. What would set this way apart was if you could somehow find out who searched what and when like by their IP or something \n",
      "Do you have a source that does not require signing up for an account such as ancestry?\n",
      "What is link?\n",
      "Mostly it’s legal because political campaigns want the data. They use it to target voters they think are likely to vote for them. Sort of a conflict of interest, right?\n",
      "\n",
      "It’s even creepier when you realize there are companies like Catalist that link voter files with consumer datasets. High level political campaigns know what sorts of cars you drive, etc. \n",
      "You have to either request them from the state or purchase access to a national voter file. Requirements are different for each state. The CA voter file is free, you can request it with [this](https://www.co.siskiyou.ca.us/sites/default/files/CLK-20180223_CaliforniaVoterRegistrationFileRequest.pdf) form. Other states charge anywhere from $50 to several hundred dollars. \n",
      "\n",
      "National voter files maintained by companies like Catalist can cost as much as 30k per year 😳\n",
      "\n",
      "\n",
      "Fortunately most of this stuff is completely useless for political campaigns. Although they have access to lots of data, the actual models they end up using don’t include any of it. Cambridge Analytica is mostly [bullshit](https://www.washingtonpost.com/news/monkey-cage/wp/2018/03/23/four-and-a-half-reasons-not-to-worry-that-cambridge-analytica-skewed-the-2016-election/?noredirect=on&utm_term=.ca1fa0ce6a83)  marketing. \n",
      "\n",
      "\n",
      "I never talked about who searched what, just counting the searches for a topic. Which in my mind is suprising given the propensity for the Chinese government to want to put away certain types of information. Hence my comment that the information could be modified and therefore to take with a grain of salt. So yea, its like someone else said, similar to google trends (but also good luck finding the link if you dont read chinese or know very precisely what it is called, so your welcome :)\n",
      "mylife.com and/or peekyou\n",
      "\n",
      "It's so many things wrong with it. It's like the ultimate stalking tool. It even scrapes photos of people as well, it's got about everything on the US population.\n",
      "Which I think is an interesting side issue -- publicly available datasets that are really only useful for particular interested parties. \n",
      "Ah, this is on me for thinking public == free. Thanks for the reply, and the link.\n",
      "Maybe, seems like many elections around the world are going toward hardline conservatives.\n",
      "Yeah, I’m a political scientist that uses this data occasionally so I won’t complain about it too much! \n",
      "Some are definitely free. CA, UT and NC are free off the top of my head, but there are others. \n"
     ]
    }
   ],
   "source": [
    "cant_believe.comments.replace_more(limit=None)\n",
    "\n",
    "for comment in cant_believe.comments.list():\n",
    "    print(comment.body)"
   ]
  },
  {
   "cell_type": "markdown",
   "metadata": {},
   "source": [
    "Each comment has a lot of metadata we can preserve."
   ]
  },
  {
   "cell_type": "code",
   "execution_count": 201,
   "metadata": {},
   "outputs": [],
   "source": [
    "cant_believe_comment_metadata = []\n",
    "\n",
    "for comment in cant_believe.comments.list():\n",
    "    if not comment.collapsed: # Skip collapsed/deleted comments\n",
    "        d = {}\n",
    "        d['id'] = comment.id\n",
    "        d['parent_id'] = comment.parent_id\n",
    "        d['body'] = comment.body\n",
    "        d['depth'] = comment.depth\n",
    "        d['edited'] = comment.edited\n",
    "        d['score'] = comment.score\n",
    "        d['date'] = datetime.utcfromtimestamp(comment.created_utc)\n",
    "        d['submission_id'] = comment.submission.id\n",
    "        d['submission_title'] = comment.submission.title\n",
    "        d['subreddit'] = comment.subreddit.display_name\n",
    "        d['author'] = comment.author.name\n",
    "        cant_believe_comment_metadata.append(d)"
   ]
  },
  {
   "cell_type": "markdown",
   "metadata": {},
   "source": [
    "Convert to a DataFrame."
   ]
  },
  {
   "cell_type": "code",
   "execution_count": 221,
   "metadata": {},
   "outputs": [
    {
     "data": {
      "text/html": [
       "<div>\n",
       "<style scoped>\n",
       "    .dataframe tbody tr th:only-of-type {\n",
       "        vertical-align: middle;\n",
       "    }\n",
       "\n",
       "    .dataframe tbody tr th {\n",
       "        vertical-align: top;\n",
       "    }\n",
       "\n",
       "    .dataframe thead th {\n",
       "        text-align: right;\n",
       "    }\n",
       "</style>\n",
       "<table border=\"1\" class=\"dataframe\">\n",
       "  <thead>\n",
       "    <tr style=\"text-align: right;\">\n",
       "      <th></th>\n",
       "      <th>author</th>\n",
       "      <th>body</th>\n",
       "      <th>date</th>\n",
       "      <th>depth</th>\n",
       "      <th>edited</th>\n",
       "      <th>id</th>\n",
       "      <th>parent_id</th>\n",
       "      <th>score</th>\n",
       "      <th>submission_id</th>\n",
       "      <th>submission_title</th>\n",
       "      <th>subreddit</th>\n",
       "      <th>comment_length</th>\n",
       "    </tr>\n",
       "  </thead>\n",
       "  <tbody>\n",
       "    <tr>\n",
       "      <th>0</th>\n",
       "      <td>jmarther</td>\n",
       "      <td>State voter files. You can see whether every s...</td>\n",
       "      <td>2019-01-27 14:03:19</td>\n",
       "      <td>0</td>\n",
       "      <td>False</td>\n",
       "      <td>ef3kluj</td>\n",
       "      <td>t3_akb4mr</td>\n",
       "      <td>63</td>\n",
       "      <td>akb4mr</td>\n",
       "      <td>What is a dataset that you can’t believe is av...</td>\n",
       "      <td>datasets</td>\n",
       "      <td>444</td>\n",
       "    </tr>\n",
       "    <tr>\n",
       "      <th>1</th>\n",
       "      <td>hamiltonkg</td>\n",
       "      <td>First and last name of every US person who has...</td>\n",
       "      <td>2019-01-27 11:52:02</td>\n",
       "      <td>0</td>\n",
       "      <td>False</td>\n",
       "      <td>ef3cp0s</td>\n",
       "      <td>t3_akb4mr</td>\n",
       "      <td>80</td>\n",
       "      <td>akb4mr</td>\n",
       "      <td>What is a dataset that you can’t believe is av...</td>\n",
       "      <td>datasets</td>\n",
       "      <td>289</td>\n",
       "    </tr>\n",
       "    <tr>\n",
       "      <th>2</th>\n",
       "      <td>brianckeegan</td>\n",
       "      <td>The SEC published \"Apache log files that recor...</td>\n",
       "      <td>2019-01-27 21:35:25</td>\n",
       "      <td>0</td>\n",
       "      <td>1.54863e+09</td>\n",
       "      <td>ef4iy3r</td>\n",
       "      <td>t3_akb4mr</td>\n",
       "      <td>14</td>\n",
       "      <td>akb4mr</td>\n",
       "      <td>What is a dataset that you can’t believe is av...</td>\n",
       "      <td>datasets</td>\n",
       "      <td>187</td>\n",
       "    </tr>\n",
       "    <tr>\n",
       "      <th>3</th>\n",
       "      <td>mouse_Brains</td>\n",
       "      <td>[Enron email dataset](https://www.cs.cmu.edu/~...</td>\n",
       "      <td>2019-01-27 20:42:16</td>\n",
       "      <td>0</td>\n",
       "      <td>False</td>\n",
       "      <td>ef4fe4q</td>\n",
       "      <td>t3_akb4mr</td>\n",
       "      <td>16</td>\n",
       "      <td>akb4mr</td>\n",
       "      <td>What is a dataset that you can’t believe is av...</td>\n",
       "      <td>datasets</td>\n",
       "      <td>56</td>\n",
       "    </tr>\n",
       "    <tr>\n",
       "      <th>4</th>\n",
       "      <td>emican</td>\n",
       "      <td>ICIJ Offshore Leaks Database\\n\\n[https://offsh...</td>\n",
       "      <td>2019-01-28 00:58:37</td>\n",
       "      <td>0</td>\n",
       "      <td>1.54864e+09</td>\n",
       "      <td>ef4ykjj</td>\n",
       "      <td>t3_akb4mr</td>\n",
       "      <td>5</td>\n",
       "      <td>akb4mr</td>\n",
       "      <td>What is a dataset that you can’t believe is av...</td>\n",
       "      <td>datasets</td>\n",
       "      <td>349</td>\n",
       "    </tr>\n",
       "  </tbody>\n",
       "</table>\n",
       "</div>"
      ],
      "text/plain": [
       "         author                                               body  \\\n",
       "0      jmarther  State voter files. You can see whether every s...   \n",
       "1    hamiltonkg  First and last name of every US person who has...   \n",
       "2  brianckeegan  The SEC published \"Apache log files that recor...   \n",
       "3  mouse_Brains  [Enron email dataset](https://www.cs.cmu.edu/~...   \n",
       "4        emican  ICIJ Offshore Leaks Database\\n\\n[https://offsh...   \n",
       "\n",
       "                 date  depth       edited       id  parent_id  score  \\\n",
       "0 2019-01-27 14:03:19      0        False  ef3kluj  t3_akb4mr     63   \n",
       "1 2019-01-27 11:52:02      0        False  ef3cp0s  t3_akb4mr     80   \n",
       "2 2019-01-27 21:35:25      0  1.54863e+09  ef4iy3r  t3_akb4mr     14   \n",
       "3 2019-01-27 20:42:16      0        False  ef4fe4q  t3_akb4mr     16   \n",
       "4 2019-01-28 00:58:37      0  1.54864e+09  ef4ykjj  t3_akb4mr      5   \n",
       "\n",
       "  submission_id                                   submission_title subreddit  \\\n",
       "0        akb4mr  What is a dataset that you can’t believe is av...  datasets   \n",
       "1        akb4mr  What is a dataset that you can’t believe is av...  datasets   \n",
       "2        akb4mr  What is a dataset that you can’t believe is av...  datasets   \n",
       "3        akb4mr  What is a dataset that you can’t believe is av...  datasets   \n",
       "4        akb4mr  What is a dataset that you can’t believe is av...  datasets   \n",
       "\n",
       "   comment_length  \n",
       "0             444  \n",
       "1             289  \n",
       "2             187  \n",
       "3              56  \n",
       "4             349  "
      ]
     },
     "execution_count": 221,
     "metadata": {},
     "output_type": "execute_result"
    }
   ],
   "source": [
    "cant_believe_df = pd.DataFrame(cant_believe_comment_metadata)\n",
    "\n",
    "# How long is the comment\n",
    "cant_believe_df['comment_length'] = cant_believe_df['body'].str.len()\n",
    "\n",
    "cant_believe_df.head()"
   ]
  },
  {
   "cell_type": "markdown",
   "metadata": {},
   "source": [
    "Do comments deeper in this comment tree have lower scores?"
   ]
  },
  {
   "cell_type": "code",
   "execution_count": 220,
   "metadata": {},
   "outputs": [
    {
     "data": {
      "text/plain": [
       "<seaborn.axisgrid.FacetGrid at 0x1241334a8>"
      ]
     },
     "execution_count": 220,
     "metadata": {},
     "output_type": "execute_result"
    },
    {
     "data": {
      "image/png": "[encoded data removed]",
      "text/plain": [
       "<Figure size 360x360 with 1 Axes>"
      ]
     },
     "metadata": {
      "needs_background": "light"
     },
     "output_type": "display_data"
    }
   ],
   "source": [
    "sb.catplot(x='depth',y='score',data=cant_believe_df,kind='bar',color='lightblue')"
   ]
  },
  {
   "cell_type": "markdown",
   "metadata": {},
   "source": [
    "Do comments deeper in this comment tree have shorter lengths?"
   ]
  },
  {
   "cell_type": "code",
   "execution_count": 222,
   "metadata": {},
   "outputs": [
    {
     "data": {
      "text/plain": [
       "<seaborn.axisgrid.FacetGrid at 0x133ee6978>"
      ]
     },
     "execution_count": 222,
     "metadata": {},
     "output_type": "execute_result"
    },
    {
     "data": {
      "image/png": "[encoded data removed]",
      "text/plain": [
       "<Figure size 360x360 with 1 Axes>"
      ]
     },
     "metadata": {
      "needs_background": "light"
     },
     "output_type": "display_data"
    }
   ],
   "source": [
    "sb.catplot(x='depth',y='comment_length',data=cant_believe_df,kind='bar',color='lightblue')"
   ]
  },
  {
   "cell_type": "markdown",
   "metadata": {},
   "source": [
    "### Redditors\n",
    "\n",
    "A Redditor is a user and we can get meta-data about the account as well as the history of the user's comments and submissions from the API.\n",
    "\n",
    "[Documentation for the Redditor model in PRAW](https://praw.readthedocs.io/en/latest/code_overview/models/redditor.html).\n",
    "\n",
    "How much link and comment karma does this user have?"
   ]
  },
  {
   "cell_type": "code",
   "execution_count": 237,
   "metadata": {},
   "outputs": [
    {
     "name": "stdout",
     "output_type": "stream",
     "text": [
      "Link karma: 108,760\n",
      "Comment karma: 665,490\n"
     ]
    }
   ],
   "source": [
    "spez = r.redditor('spez')\n",
    "print(\"Link karma: {0:,}\".format(spez.link_karma))\n",
    "print(\"Comment karma: {0:,}\".format(spez.comment_karma))"
   ]
  },
  {
   "cell_type": "markdown",
   "metadata": {},
   "source": [
    "Interestingly, Reddit flags the users who are employees of Reddit as well as if accounts have verified email addresses."
   ]
  },
  {
   "cell_type": "code",
   "execution_count": 235,
   "metadata": {},
   "outputs": [
    {
     "data": {
      "text/plain": [
       "True"
      ]
     },
     "execution_count": 235,
     "metadata": {},
     "output_type": "execute_result"
    }
   ],
   "source": [
    "spez.is_employee"
   ]
  },
  {
   "cell_type": "code",
   "execution_count": 239,
   "metadata": {},
   "outputs": [
    {
     "data": {
      "text/plain": [
       "True"
      ]
     },
     "execution_count": 239,
     "metadata": {},
     "output_type": "execute_result"
    }
   ],
   "source": [
    "spez.has_verified_email"
   ]
  },
  {
   "cell_type": "markdown",
   "metadata": {},
   "source": [
    "We can also get the time this user's account was created."
   ]
  },
  {
   "cell_type": "code",
   "execution_count": 236,
   "metadata": {},
   "outputs": [
    {
     "data": {
      "text/plain": [
       "datetime.datetime(2005, 6, 6, 4, 0)"
      ]
     },
     "execution_count": 236,
     "metadata": {},
     "output_type": "execute_result"
    }
   ],
   "source": [
    "datetime.utcfromtimestamp(spez.created_utc)"
   ]
  },
  {
   "cell_type": "markdown",
   "metadata": {},
   "source": [
    "We can also get information about individual redditors' submissions and comment histories. Here we will use u/spez (the CEO of Reddit), get his top-voted submissions, and loop through them to get the data for each submission."
   ]
  },
  {
   "cell_type": "code",
   "execution_count": 138,
   "metadata": {},
   "outputs": [],
   "source": [
    "spez_submissions = []\n",
    "\n",
    "for submission in r.redditor('spez').submissions.top('all',limit=25):\n",
    "    d = {}\n",
    "    d['id'] = submission.id\n",
    "    d['title'] = submission.title\n",
    "    d['num_comments'] = submission.num_comments\n",
    "    d['score'] = submission.score\n",
    "    d['upvote_ratio'] = submission.upvote_ratio\n",
    "    d['date'] = datetime.utcfromtimestamp(submission.created_utc)\n",
    "    d['domain'] = submission.domain\n",
    "    d['gilded'] = submission.gilded\n",
    "    d['num_crossposts'] = submission.num_crossposts\n",
    "    d['nsfw'] = submission.over_18\n",
    "    d['author'] = submission.author.name\n",
    "    spez_submissions.append(d)"
   ]
  },
  {
   "cell_type": "markdown",
   "metadata": {},
   "source": [
    "Again we can turn this list of dictionaries into a DataFrame to do substantive data analysis."
   ]
  },
  {
   "cell_type": "code",
   "execution_count": 140,
   "metadata": {},
   "outputs": [
    {
     "data": {
      "text/html": [
       "<div>\n",
       "<style scoped>\n",
       "    .dataframe tbody tr th:only-of-type {\n",
       "        vertical-align: middle;\n",
       "    }\n",
       "\n",
       "    .dataframe tbody tr th {\n",
       "        vertical-align: top;\n",
       "    }\n",
       "\n",
       "    .dataframe thead th {\n",
       "        text-align: right;\n",
       "    }\n",
       "</style>\n",
       "<table border=\"1\" class=\"dataframe\">\n",
       "  <thead>\n",
       "    <tr style=\"text-align: right;\">\n",
       "      <th></th>\n",
       "      <th>author</th>\n",
       "      <th>date</th>\n",
       "      <th>domain</th>\n",
       "      <th>gilded</th>\n",
       "      <th>id</th>\n",
       "      <th>nsfw</th>\n",
       "      <th>num_comments</th>\n",
       "      <th>num_crossposts</th>\n",
       "      <th>score</th>\n",
       "      <th>title</th>\n",
       "      <th>upvote_ratio</th>\n",
       "    </tr>\n",
       "  </thead>\n",
       "  <tbody>\n",
       "    <tr>\n",
       "      <th>0</th>\n",
       "      <td>spez</td>\n",
       "      <td>2017-12-14 17:10:15</td>\n",
       "      <td>self.announcements</td>\n",
       "      <td>7</td>\n",
       "      <td>7jsyqt</td>\n",
       "      <td>False</td>\n",
       "      <td>14866</td>\n",
       "      <td>17</td>\n",
       "      <td>194088</td>\n",
       "      <td>The FCC’s vote was predictably frustrating, bu...</td>\n",
       "      <td>0.86</td>\n",
       "    </tr>\n",
       "    <tr>\n",
       "      <th>1</th>\n",
       "      <td>spez</td>\n",
       "      <td>2017-11-27 18:03:30</td>\n",
       "      <td>self.blog</td>\n",
       "      <td>4</td>\n",
       "      <td>7fx1x4</td>\n",
       "      <td>False</td>\n",
       "      <td>7886</td>\n",
       "      <td>16</td>\n",
       "      <td>92810</td>\n",
       "      <td>An update on the fight for the free and open i...</td>\n",
       "      <td>0.81</td>\n",
       "    </tr>\n",
       "    <tr>\n",
       "      <th>2</th>\n",
       "      <td>spez</td>\n",
       "      <td>2016-11-30 19:04:49</td>\n",
       "      <td>self.announcements</td>\n",
       "      <td>32</td>\n",
       "      <td>5frg1n</td>\n",
       "      <td>False</td>\n",
       "      <td>35841</td>\n",
       "      <td>0</td>\n",
       "      <td>50315</td>\n",
       "      <td>TIFU by editing some comments and creating an ...</td>\n",
       "      <td>0.61</td>\n",
       "    </tr>\n",
       "    <tr>\n",
       "      <th>3</th>\n",
       "      <td>spez</td>\n",
       "      <td>2015-07-11 17:02:59</td>\n",
       "      <td>self.IAmA</td>\n",
       "      <td>2</td>\n",
       "      <td>3cxedn</td>\n",
       "      <td>False</td>\n",
       "      <td>12864</td>\n",
       "      <td>0</td>\n",
       "      <td>41367</td>\n",
       "      <td>I am Steve Huffman, the new CEO of reddit. AMA.</td>\n",
       "      <td>0.83</td>\n",
       "    </tr>\n",
       "    <tr>\n",
       "      <th>4</th>\n",
       "      <td>spez</td>\n",
       "      <td>2016-10-26 21:00:53</td>\n",
       "      <td>self.announcements</td>\n",
       "      <td>3</td>\n",
       "      <td>59k22p</td>\n",
       "      <td>False</td>\n",
       "      <td>12402</td>\n",
       "      <td>0</td>\n",
       "      <td>32210</td>\n",
       "      <td>Hey, it’s Reddit’s totally politically neutral...</td>\n",
       "      <td>0.64</td>\n",
       "    </tr>\n",
       "  </tbody>\n",
       "</table>\n",
       "</div>"
      ],
      "text/plain": [
       "  author                date              domain  gilded      id   nsfw  \\\n",
       "0   spez 2017-12-14 17:10:15  self.announcements       7  7jsyqt  False   \n",
       "1   spez 2017-11-27 18:03:30           self.blog       4  7fx1x4  False   \n",
       "2   spez 2016-11-30 19:04:49  self.announcements      32  5frg1n  False   \n",
       "3   spez 2015-07-11 17:02:59           self.IAmA       2  3cxedn  False   \n",
       "4   spez 2016-10-26 21:00:53  self.announcements       3  59k22p  False   \n",
       "\n",
       "   num_comments  num_crossposts   score  \\\n",
       "0         14866              17  194088   \n",
       "1          7886              16   92810   \n",
       "2         35841               0   50315   \n",
       "3         12864               0   41367   \n",
       "4         12402               0   32210   \n",
       "\n",
       "                                               title  upvote_ratio  \n",
       "0  The FCC’s vote was predictably frustrating, bu...          0.86  \n",
       "1  An update on the fight for the free and open i...          0.81  \n",
       "2  TIFU by editing some comments and creating an ...          0.61  \n",
       "3    I am Steve Huffman, the new CEO of reddit. AMA.          0.83  \n",
       "4  Hey, it’s Reddit’s totally politically neutral...          0.64  "
      ]
     },
     "execution_count": 140,
     "metadata": {},
     "output_type": "execute_result"
    }
   ],
   "source": [
    "pd.DataFrame(spez_submissions).head()"
   ]
  },
  {
   "cell_type": "markdown",
   "metadata": {},
   "source": [
    "We can also get all the comments made by an editor."
   ]
  },
  {
   "cell_type": "code",
   "execution_count": 170,
   "metadata": {},
   "outputs": [],
   "source": [
    "spez_comments = []\n",
    "\n",
    "for comment in r.redditor('spez').comments.top('all',limit=25):\n",
    "    d = {}\n",
    "    d['id'] = comment.id\n",
    "    d['body'] = comment.body\n",
    "    d['depth'] = comment.depth\n",
    "    d['edited'] = comment.edited\n",
    "    d['score'] = comment.score\n",
    "    d['date'] = datetime.utcfromtimestamp(comment.created_utc)\n",
    "    d['submission_id'] = comment.submission.id\n",
    "    d['submission_title'] = comment.submission.title\n",
    "    d['subreddit'] = comment.subreddit.display_name\n",
    "    d['author'] = comment.author.name\n",
    "    spez_comments.append(d)"
   ]
  },
  {
   "cell_type": "code",
   "execution_count": 171,
   "metadata": {},
   "outputs": [
    {
     "data": {
      "text/html": [
       "<div>\n",
       "<style scoped>\n",
       "    .dataframe tbody tr th:only-of-type {\n",
       "        vertical-align: middle;\n",
       "    }\n",
       "\n",
       "    .dataframe tbody tr th {\n",
       "        vertical-align: top;\n",
       "    }\n",
       "\n",
       "    .dataframe thead th {\n",
       "        text-align: right;\n",
       "    }\n",
       "</style>\n",
       "<table border=\"1\" class=\"dataframe\">\n",
       "  <thead>\n",
       "    <tr style=\"text-align: right;\">\n",
       "      <th></th>\n",
       "      <th>author</th>\n",
       "      <th>body</th>\n",
       "      <th>date</th>\n",
       "      <th>edited</th>\n",
       "      <th>id</th>\n",
       "      <th>score</th>\n",
       "      <th>submission_date</th>\n",
       "      <th>submission_id</th>\n",
       "      <th>submission_title</th>\n",
       "      <th>subreddit</th>\n",
       "    </tr>\n",
       "  </thead>\n",
       "  <tbody>\n",
       "    <tr>\n",
       "      <th>0</th>\n",
       "      <td>spez</td>\n",
       "      <td>Reddit search might work by then.</td>\n",
       "      <td>2016-10-26 21:07:22</td>\n",
       "      <td>False</td>\n",
       "      <td>d992fwq</td>\n",
       "      <td>22199</td>\n",
       "      <td>2016-10-26 21:00:53</td>\n",
       "      <td>59k22p</td>\n",
       "      <td>Hey, it’s Reddit’s totally politically neutral...</td>\n",
       "      <td>announcements</td>\n",
       "    </tr>\n",
       "    <tr>\n",
       "      <th>1</th>\n",
       "      <td>spez</td>\n",
       "      <td>No. We don’t negotiate with terrorists.</td>\n",
       "      <td>2017-12-14 19:33:42</td>\n",
       "      <td>False</td>\n",
       "      <td>dr95e2i</td>\n",
       "      <td>20228</td>\n",
       "      <td>2017-12-14 17:10:15</td>\n",
       "      <td>7jsyqt</td>\n",
       "      <td>The FCC’s vote was predictably frustrating, bu...</td>\n",
       "      <td>announcements</td>\n",
       "    </tr>\n",
       "    <tr>\n",
       "      <th>2</th>\n",
       "      <td>spez</td>\n",
       "      <td>good bot</td>\n",
       "      <td>2017-12-14 17:11:41</td>\n",
       "      <td>False</td>\n",
       "      <td>dr8whnr</td>\n",
       "      <td>17498</td>\n",
       "      <td>2017-12-14 17:10:15</td>\n",
       "      <td>7jsyqt</td>\n",
       "      <td>The FCC’s vote was predictably frustrating, bu...</td>\n",
       "      <td>announcements</td>\n",
       "    </tr>\n",
       "    <tr>\n",
       "      <th>3</th>\n",
       "      <td>spez</td>\n",
       "      <td>On Reddit.</td>\n",
       "      <td>2016-10-26 21:14:49</td>\n",
       "      <td>False</td>\n",
       "      <td>d992soe</td>\n",
       "      <td>13844</td>\n",
       "      <td>2016-10-26 21:00:53</td>\n",
       "      <td>59k22p</td>\n",
       "      <td>Hey, it’s Reddit’s totally politically neutral...</td>\n",
       "      <td>announcements</td>\n",
       "    </tr>\n",
       "    <tr>\n",
       "      <th>4</th>\n",
       "      <td>spez</td>\n",
       "      <td>&gt; However, why not allow a small 5 minute wind...</td>\n",
       "      <td>2016-11-30 19:40:47</td>\n",
       "      <td>False</td>\n",
       "      <td>damgw92</td>\n",
       "      <td>12698</td>\n",
       "      <td>2016-11-30 19:04:49</td>\n",
       "      <td>5frg1n</td>\n",
       "      <td>TIFU by editing some comments and creating an ...</td>\n",
       "      <td>announcements</td>\n",
       "    </tr>\n",
       "  </tbody>\n",
       "</table>\n",
       "</div>"
      ],
      "text/plain": [
       "  author                                               body  \\\n",
       "0   spez                  Reddit search might work by then.   \n",
       "1   spez           No. We don’t negotiate with terrorists.    \n",
       "2   spez                                           good bot   \n",
       "3   spez                                         On Reddit.   \n",
       "4   spez  > However, why not allow a small 5 minute wind...   \n",
       "\n",
       "                 date edited       id  score     submission_date  \\\n",
       "0 2016-10-26 21:07:22  False  d992fwq  22199 2016-10-26 21:00:53   \n",
       "1 2017-12-14 19:33:42  False  dr95e2i  20228 2017-12-14 17:10:15   \n",
       "2 2017-12-14 17:11:41  False  dr8whnr  17498 2017-12-14 17:10:15   \n",
       "3 2016-10-26 21:14:49  False  d992soe  13844 2016-10-26 21:00:53   \n",
       "4 2016-11-30 19:40:47  False  damgw92  12698 2016-11-30 19:04:49   \n",
       "\n",
       "  submission_id                                   submission_title  \\\n",
       "0        59k22p  Hey, it’s Reddit’s totally politically neutral...   \n",
       "1        7jsyqt  The FCC’s vote was predictably frustrating, bu...   \n",
       "2        7jsyqt  The FCC’s vote was predictably frustrating, bu...   \n",
       "3        59k22p  Hey, it’s Reddit’s totally politically neutral...   \n",
       "4        5frg1n  TIFU by editing some comments and creating an ...   \n",
       "\n",
       "       subreddit  \n",
       "0  announcements  \n",
       "1  announcements  \n",
       "2  announcements  \n",
       "3  announcements  \n",
       "4  announcements  "
      ]
     },
     "execution_count": 171,
     "metadata": {},
     "output_type": "execute_result"
    }
   ],
   "source": [
    "pd.DataFrame(spez_comments).head()"
   ]
  },
  {
   "cell_type": "markdown",
   "metadata": {},
   "source": [
    "This user's top comments are mostly focused in the /r/announcements subreddit."
   ]
  },
  {
   "cell_type": "code",
   "execution_count": 240,
   "metadata": {},
   "outputs": [
    {
     "data": {
      "text/plain": [
       "announcements    21\n",
       "IAmA              2\n",
       "blog              1\n",
       "RoastMe           1\n",
       "Name: subreddit, dtype: int64"
      ]
     },
     "execution_count": 240,
     "metadata": {},
     "output_type": "execute_result"
    }
   ],
   "source": [
    "pd.DataFrame(spez_comments)['subreddit'].value_counts()"
   ]
  },
  {
   "cell_type": "code",
   "execution_count": null,
   "metadata": {},
   "outputs": [],
   "source": []
  }
 ],
 "metadata": {
  "kernelspec": {
   "display_name": "Python 3",
   "language": "python",
   "name": "python3"
  },
  "language_info": {
   "codemirror_mode": {
    "name": "ipython",
    "version": 3
   },
   "file_extension": ".py",
   "mimetype": "text/x-python",
   "name": "python",
   "nbconvert_exporter": "python",
   "pygments_lexer": "ipython3",
   "version": "3.6.8"
  }
 },
 "nbformat": 4,
 "nbformat_minor": 2
}
